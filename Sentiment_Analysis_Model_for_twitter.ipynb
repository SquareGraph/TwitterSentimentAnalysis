{
  "nbformat": 4,
  "nbformat_minor": 0,
  "metadata": {
    "colab": {
      "provenance": [],
      "collapsed_sections": [],
      "machine_shape": "hm",
      "authorship_tag": "ABX9TyOjbYiCLA96aljTa7VGdrys",
      "include_colab_link": true
    },
    "kernelspec": {
      "name": "python3",
      "display_name": "Python 3"
    },
    "language_info": {
      "name": "python"
    },
    "accelerator": "GPU",
    "gpuClass": "premium"
  },
  "cells": [
    {
      "cell_type": "markdown",
      "metadata": {
        "id": "view-in-github",
        "colab_type": "text"
      },
      "source": [
        "<a href=\"https://colab.research.google.com/github/SquareGraph/TwitterSentimentAnalysis/blob/main/Sentiment_Analysis_Model_for_twitter.ipynb\" target=\"_parent\"><img src=\"https://colab.research.google.com/assets/colab-badge.svg\" alt=\"Open In Colab\"/></a>"
      ]
    },
    {
      "cell_type": "markdown",
      "source": [
        "# Sentiment analysis for crypto twitter feed\n",
        "\n",
        "Model that will later be served through the server in real-time, for purpose of monitoring certain events and general mood in the given industry.\n",
        "\n",
        "1. Let's start with uploading kaggle.json to easily download their datasets.\n",
        "2. We will create three different datasets, on which we will train the algorithm:\n",
        "<br>a) https://www.kaggle.com/datasets/kazanova/sentiment140*\n",
        "<br>b) https://www.kaggle.com/datasets/ankurzing/sentiment-analysis-for-financial-news\n",
        "<br>c https://www.kaggle.com/shashank1558/preprocessed-twitter-tweets\n",
        "\n",
        "3. Then we will create a Double-stacked LSTM model with pre-trianed Universal Sentence Encoder embeddings, and train this model on each of the datasets. We will evaluate each of the models and compare them (mix of classification metrics). \n",
        "\n",
        "4. Fourth step is to get live tweets from a certain topic, on which we can make a real predictions, about the sentiment, and randomly check how it performs. We will use Tweepy and Twitter API for this. We will make predictions on a three topics per each of the models:\n",
        "<br>a) We will pick ten tweets from each of the topics.\n",
        "<br>b) The following topics are: Elon Musk, Bitcoin, English Premier League\n",
        "<br>c) Make some sentiment classification on our best performing model, and print out some sample sentences.\n",
        "\n",
        "*This dataset consists only of two labels. But it's the biggest and most interesting. We may use sigmoid outputs to calculate the level of sentiment (how positive or how negative they are), or in other words use logits to bin them in three groups, to compare the results with all the other models when we will be predicting!"
      ],
      "metadata": {
        "id": "juPVJO4Ka9WA"
      }
    },
    {
      "cell_type": "markdown",
      "source": [
        "# 1. Let's start from building datasets. \n",
        "We have to upload kaggle.json to the notebook, to download the datasets."
      ],
      "metadata": {
        "id": "GiawJ2aRfW3e"
      }
    },
    {
      "cell_type": "code",
      "execution_count": 1,
      "metadata": {
        "id": "dGs9QYY-aXbH",
        "colab": {
          "base_uri": "https://localhost:8080/"
        },
        "outputId": "2a4eb5e5-02b0-4c00-cf1f-11ec8feb615f"
      },
      "outputs": [
        {
          "output_type": "stream",
          "name": "stdout",
          "text": [
            "Mounted at /content/gdrive\n"
          ]
        }
      ],
      "source": [
        "import os\n",
        "from google.colab import files, drive\n",
        "\n",
        "drive.mount(\"/content/gdrive\")"
      ]
    },
    {
      "cell_type": "code",
      "source": [
        "!mkdir ~/.kaggle"
      ],
      "metadata": {
        "id": "5dulJISziG-1"
      },
      "execution_count": 2,
      "outputs": []
    },
    {
      "cell_type": "code",
      "source": [
        "!cp /content/gdrive/MyDrive/CREDENTIALS/kaggle.json  ~/.kaggle/"
      ],
      "metadata": {
        "id": "lxkK4Gu8Shmi"
      },
      "execution_count": 3,
      "outputs": []
    },
    {
      "cell_type": "code",
      "source": [
        "!chmod 600 /root/.kaggle/kaggle.json"
      ],
      "metadata": {
        "id": "j1neUjaSStnK"
      },
      "execution_count": 4,
      "outputs": []
    },
    {
      "cell_type": "markdown",
      "source": [
        "## 1a. It's time for a Sentiment 140 dataset."
      ],
      "metadata": {
        "id": "G2SHokTTqLEN"
      }
    },
    {
      "cell_type": "code",
      "source": [
        "!kaggle datasets download -d kazanova/sentiment140"
      ],
      "metadata": {
        "colab": {
          "base_uri": "https://localhost:8080/"
        },
        "id": "6VIIjYNogAh4",
        "outputId": "577c1299-082e-44d0-d541-1672031523d2"
      },
      "execution_count": 5,
      "outputs": [
        {
          "output_type": "stream",
          "name": "stdout",
          "text": [
            "Downloading sentiment140.zip to /content\n",
            " 89% 72.0M/80.9M [00:02<00:00, 45.3MB/s]\n",
            "100% 80.9M/80.9M [00:02<00:00, 31.2MB/s]\n"
          ]
        }
      ]
    },
    {
      "cell_type": "code",
      "source": [
        "!unzip /content/sentiment140.zip"
      ],
      "metadata": {
        "colab": {
          "base_uri": "https://localhost:8080/"
        },
        "id": "2HvbRDOgjD_g",
        "outputId": "0a1f0b8c-c46c-4fbb-eb28-e40b241f500d"
      },
      "execution_count": 6,
      "outputs": [
        {
          "output_type": "stream",
          "name": "stdout",
          "text": [
            "Archive:  /content/sentiment140.zip\n",
            "  inflating: training.1600000.processed.noemoticon.csv  \n"
          ]
        }
      ]
    },
    {
      "cell_type": "code",
      "source": [
        "#let's create dataframe, to take a look on this dataset!\n",
        "\n",
        "import pandas as pd\n",
        "\n",
        "headers=[\"sentiment\",\"tweet_id\", \"date\", \"QUERY\", \"username\", \"text\"]\n",
        "\n",
        "s140_df = pd.read_csv(\"/content/training.1600000.processed.noemoticon.csv\", encoding='ISO-8859-1', names=headers) #standard utf-8 encoding provided an error. ISO is working.\n",
        "\n",
        "s140_df.head() "
      ],
      "metadata": {
        "id": "MR6uGGqjjEDw",
        "colab": {
          "base_uri": "https://localhost:8080/",
          "height": 206
        },
        "outputId": "04619577-2053-4a11-9117-acecf3019119"
      },
      "execution_count": 7,
      "outputs": [
        {
          "output_type": "execute_result",
          "data": {
            "text/plain": [
              "   sentiment    tweet_id                          date     QUERY  \\\n",
              "0          0  1467810369  Mon Apr 06 22:19:45 PDT 2009  NO_QUERY   \n",
              "1          0  1467810672  Mon Apr 06 22:19:49 PDT 2009  NO_QUERY   \n",
              "2          0  1467810917  Mon Apr 06 22:19:53 PDT 2009  NO_QUERY   \n",
              "3          0  1467811184  Mon Apr 06 22:19:57 PDT 2009  NO_QUERY   \n",
              "4          0  1467811193  Mon Apr 06 22:19:57 PDT 2009  NO_QUERY   \n",
              "\n",
              "          username                                               text  \n",
              "0  _TheSpecialOne_  @switchfoot http://twitpic.com/2y1zl - Awww, t...  \n",
              "1    scotthamilton  is upset that he can't update his Facebook by ...  \n",
              "2         mattycus  @Kenichan I dived many times for the ball. Man...  \n",
              "3          ElleCTF    my whole body feels itchy and like its on fire   \n",
              "4           Karoli  @nationwideclass no, it's not behaving at all....  "
            ],
            "text/html": [
              "\n",
              "  <div id=\"df-b1d1ba2d-ae10-4aa5-9bc7-9b9c16eba546\">\n",
              "    <div class=\"colab-df-container\">\n",
              "      <div>\n",
              "<style scoped>\n",
              "    .dataframe tbody tr th:only-of-type {\n",
              "        vertical-align: middle;\n",
              "    }\n",
              "\n",
              "    .dataframe tbody tr th {\n",
              "        vertical-align: top;\n",
              "    }\n",
              "\n",
              "    .dataframe thead th {\n",
              "        text-align: right;\n",
              "    }\n",
              "</style>\n",
              "<table border=\"1\" class=\"dataframe\">\n",
              "  <thead>\n",
              "    <tr style=\"text-align: right;\">\n",
              "      <th></th>\n",
              "      <th>sentiment</th>\n",
              "      <th>tweet_id</th>\n",
              "      <th>date</th>\n",
              "      <th>QUERY</th>\n",
              "      <th>username</th>\n",
              "      <th>text</th>\n",
              "    </tr>\n",
              "  </thead>\n",
              "  <tbody>\n",
              "    <tr>\n",
              "      <th>0</th>\n",
              "      <td>0</td>\n",
              "      <td>1467810369</td>\n",
              "      <td>Mon Apr 06 22:19:45 PDT 2009</td>\n",
              "      <td>NO_QUERY</td>\n",
              "      <td>_TheSpecialOne_</td>\n",
              "      <td>@switchfoot http://twitpic.com/2y1zl - Awww, t...</td>\n",
              "    </tr>\n",
              "    <tr>\n",
              "      <th>1</th>\n",
              "      <td>0</td>\n",
              "      <td>1467810672</td>\n",
              "      <td>Mon Apr 06 22:19:49 PDT 2009</td>\n",
              "      <td>NO_QUERY</td>\n",
              "      <td>scotthamilton</td>\n",
              "      <td>is upset that he can't update his Facebook by ...</td>\n",
              "    </tr>\n",
              "    <tr>\n",
              "      <th>2</th>\n",
              "      <td>0</td>\n",
              "      <td>1467810917</td>\n",
              "      <td>Mon Apr 06 22:19:53 PDT 2009</td>\n",
              "      <td>NO_QUERY</td>\n",
              "      <td>mattycus</td>\n",
              "      <td>@Kenichan I dived many times for the ball. Man...</td>\n",
              "    </tr>\n",
              "    <tr>\n",
              "      <th>3</th>\n",
              "      <td>0</td>\n",
              "      <td>1467811184</td>\n",
              "      <td>Mon Apr 06 22:19:57 PDT 2009</td>\n",
              "      <td>NO_QUERY</td>\n",
              "      <td>ElleCTF</td>\n",
              "      <td>my whole body feels itchy and like its on fire</td>\n",
              "    </tr>\n",
              "    <tr>\n",
              "      <th>4</th>\n",
              "      <td>0</td>\n",
              "      <td>1467811193</td>\n",
              "      <td>Mon Apr 06 22:19:57 PDT 2009</td>\n",
              "      <td>NO_QUERY</td>\n",
              "      <td>Karoli</td>\n",
              "      <td>@nationwideclass no, it's not behaving at all....</td>\n",
              "    </tr>\n",
              "  </tbody>\n",
              "</table>\n",
              "</div>\n",
              "      <button class=\"colab-df-convert\" onclick=\"convertToInteractive('df-b1d1ba2d-ae10-4aa5-9bc7-9b9c16eba546')\"\n",
              "              title=\"Convert this dataframe to an interactive table.\"\n",
              "              style=\"display:none;\">\n",
              "        \n",
              "  <svg xmlns=\"http://www.w3.org/2000/svg\" height=\"24px\"viewBox=\"0 0 24 24\"\n",
              "       width=\"24px\">\n",
              "    <path d=\"M0 0h24v24H0V0z\" fill=\"none\"/>\n",
              "    <path d=\"M18.56 5.44l.94 2.06.94-2.06 2.06-.94-2.06-.94-.94-2.06-.94 2.06-2.06.94zm-11 1L8.5 8.5l.94-2.06 2.06-.94-2.06-.94L8.5 2.5l-.94 2.06-2.06.94zm10 10l.94 2.06.94-2.06 2.06-.94-2.06-.94-.94-2.06-.94 2.06-2.06.94z\"/><path d=\"M17.41 7.96l-1.37-1.37c-.4-.4-.92-.59-1.43-.59-.52 0-1.04.2-1.43.59L10.3 9.45l-7.72 7.72c-.78.78-.78 2.05 0 2.83L4 21.41c.39.39.9.59 1.41.59.51 0 1.02-.2 1.41-.59l7.78-7.78 2.81-2.81c.8-.78.8-2.07 0-2.86zM5.41 20L4 18.59l7.72-7.72 1.47 1.35L5.41 20z\"/>\n",
              "  </svg>\n",
              "      </button>\n",
              "      \n",
              "  <style>\n",
              "    .colab-df-container {\n",
              "      display:flex;\n",
              "      flex-wrap:wrap;\n",
              "      gap: 12px;\n",
              "    }\n",
              "\n",
              "    .colab-df-convert {\n",
              "      background-color: #E8F0FE;\n",
              "      border: none;\n",
              "      border-radius: 50%;\n",
              "      cursor: pointer;\n",
              "      display: none;\n",
              "      fill: #1967D2;\n",
              "      height: 32px;\n",
              "      padding: 0 0 0 0;\n",
              "      width: 32px;\n",
              "    }\n",
              "\n",
              "    .colab-df-convert:hover {\n",
              "      background-color: #E2EBFA;\n",
              "      box-shadow: 0px 1px 2px rgba(60, 64, 67, 0.3), 0px 1px 3px 1px rgba(60, 64, 67, 0.15);\n",
              "      fill: #174EA6;\n",
              "    }\n",
              "\n",
              "    [theme=dark] .colab-df-convert {\n",
              "      background-color: #3B4455;\n",
              "      fill: #D2E3FC;\n",
              "    }\n",
              "\n",
              "    [theme=dark] .colab-df-convert:hover {\n",
              "      background-color: #434B5C;\n",
              "      box-shadow: 0px 1px 3px 1px rgba(0, 0, 0, 0.15);\n",
              "      filter: drop-shadow(0px 1px 2px rgba(0, 0, 0, 0.3));\n",
              "      fill: #FFFFFF;\n",
              "    }\n",
              "  </style>\n",
              "\n",
              "      <script>\n",
              "        const buttonEl =\n",
              "          document.querySelector('#df-b1d1ba2d-ae10-4aa5-9bc7-9b9c16eba546 button.colab-df-convert');\n",
              "        buttonEl.style.display =\n",
              "          google.colab.kernel.accessAllowed ? 'block' : 'none';\n",
              "\n",
              "        async function convertToInteractive(key) {\n",
              "          const element = document.querySelector('#df-b1d1ba2d-ae10-4aa5-9bc7-9b9c16eba546');\n",
              "          const dataTable =\n",
              "            await google.colab.kernel.invokeFunction('convertToInteractive',\n",
              "                                                     [key], {});\n",
              "          if (!dataTable) return;\n",
              "\n",
              "          const docLinkHtml = 'Like what you see? Visit the ' +\n",
              "            '<a target=\"_blank\" href=https://colab.research.google.com/notebooks/data_table.ipynb>data table notebook</a>'\n",
              "            + ' to learn more about interactive tables.';\n",
              "          element.innerHTML = '';\n",
              "          dataTable['output_type'] = 'display_data';\n",
              "          await google.colab.output.renderOutput(dataTable, element);\n",
              "          const docLink = document.createElement('div');\n",
              "          docLink.innerHTML = docLinkHtml;\n",
              "          element.appendChild(docLink);\n",
              "        }\n",
              "      </script>\n",
              "    </div>\n",
              "  </div>\n",
              "  "
            ]
          },
          "metadata": {},
          "execution_count": 7
        }
      ]
    },
    {
      "cell_type": "code",
      "source": [
        "# We are interested in only two columns - sentiment and text. We will create dataframe consisting of those two series.\n",
        "\n",
        "sentiment_140_df = s140_df[[\"sentiment\",\"text\"]]"
      ],
      "metadata": {
        "id": "FrhVdXUNjEG3"
      },
      "execution_count": 8,
      "outputs": []
    },
    {
      "cell_type": "code",
      "source": [
        "print(f\"The shape of a df is: {sentiment_140_df.shape}, \"\n",
        "f\"and the unique values of Sentiment series are: {sentiment_140_df.sentiment.unique()[0],sentiment_140_df.sentiment.unique()[1]}\"\n",
        "f\"\\nAnd they are distribiuted as follows: \\n{sentiment_140_df.sentiment.value_counts()}\")"
      ],
      "metadata": {
        "id": "UD6esDNHjEJ7",
        "colab": {
          "base_uri": "https://localhost:8080/"
        },
        "outputId": "21e3ddd4-5d36-44ad-9b79-31825a1c78b9"
      },
      "execution_count": 9,
      "outputs": [
        {
          "output_type": "stream",
          "name": "stdout",
          "text": [
            "The shape of a df is: (1600000, 2), and the unique values of Sentiment series are: (0, 4)\n",
            "And they are distribiuted as follows: \n",
            "0    800000\n",
            "4    800000\n",
            "Name: sentiment, dtype: int64\n"
          ]
        }
      ]
    },
    {
      "cell_type": "code",
      "source": [
        "# from the documentation we know that 4 means positive, and 0's are negatives. We want to turn those values into binary classification problem\n",
        "\n",
        "sentiment_140_df.sentiment.replace(4,1, inplace=True)\n",
        "sentiment_140_df.sentiment.value_counts()"
      ],
      "metadata": {
        "id": "HFA6kCtvjEMo",
        "colab": {
          "base_uri": "https://localhost:8080/"
        },
        "outputId": "06aa7086-d191-4737-b55d-eb4042941ec4"
      },
      "execution_count": 10,
      "outputs": [
        {
          "output_type": "stream",
          "name": "stderr",
          "text": [
            "/usr/local/lib/python3.7/dist-packages/pandas/core/generic.py:6619: SettingWithCopyWarning: \n",
            "A value is trying to be set on a copy of a slice from a DataFrame\n",
            "\n",
            "See the caveats in the documentation: https://pandas.pydata.org/pandas-docs/stable/user_guide/indexing.html#returning-a-view-versus-a-copy\n",
            "  return self._update_inplace(result)\n"
          ]
        },
        {
          "output_type": "execute_result",
          "data": {
            "text/plain": [
              "0    800000\n",
              "1    800000\n",
              "Name: sentiment, dtype: int64"
            ]
          },
          "metadata": {},
          "execution_count": 10
        }
      ]
    },
    {
      "cell_type": "code",
      "source": [
        "# and also we want to shuffle rows, to have a kind of an equal distribution of all the samples when we will divide them into train and test splits\n",
        "sentiment_140_df = sentiment_140_df.sample(frac=1)\n",
        "# and it's quite big, so let's take a 2% of a data only, would train for an hours.\n",
        "# 2% is around 3200 records\n",
        "\n",
        "sentiment_140_df_two_percent = sentiment_140_df[:3200]"
      ],
      "metadata": {
        "id": "H4jqJrD2lXLc"
      },
      "execution_count": 11,
      "outputs": []
    },
    {
      "cell_type": "code",
      "source": [
        "from sklearn.model_selection import train_test_split\n",
        "\n",
        "X_train140, X_test140, y_train140, y_test140 = train_test_split(sentiment_140_df_two_percent.text.to_numpy(), \n",
        "                                                                sentiment_140_df_two_percent.sentiment.to_numpy(), test_size=0.2)"
      ],
      "metadata": {
        "id": "grti1H2ylcKN"
      },
      "execution_count": 12,
      "outputs": []
    },
    {
      "cell_type": "code",
      "source": [
        "X_train140.shape, X_test140.shape, y_train140.shape, y_test140.shape # it looks like shapes matches each other, so it's time to create tf tensors"
      ],
      "metadata": {
        "id": "F6N1a3AunTbx",
        "colab": {
          "base_uri": "https://localhost:8080/"
        },
        "outputId": "6ac47be7-423c-4551-b249-ad683b79e71c"
      },
      "execution_count": 13,
      "outputs": [
        {
          "output_type": "execute_result",
          "data": {
            "text/plain": [
              "((2560,), (640,), (2560,), (640,))"
            ]
          },
          "metadata": {},
          "execution_count": 13
        }
      ]
    },
    {
      "cell_type": "code",
      "source": [
        "#And check the distribution of labels per each dataset\n",
        "import matplotlib.pyplot as plt\n",
        "\n",
        "plt.hist(y_train140), plt.hist(y_test140) #blue is train dataset, orange is test\n",
        "plt.show()"
      ],
      "metadata": {
        "id": "qg0vqXHjyaj9",
        "colab": {
          "base_uri": "https://localhost:8080/",
          "height": 265
        },
        "outputId": "9614af5d-8a5e-4820-abfe-63247216d63d"
      },
      "execution_count": 14,
      "outputs": [
        {
          "output_type": "display_data",
          "data": {
            "text/plain": [
              "<Figure size 432x288 with 1 Axes>"
            ],
            "image/png": "[encoded data removed]"
          },
          "metadata": {
            "needs_background": "light"
          }
        }
      ]
    },
    {
      "cell_type": "code",
      "source": [
        "import tensorflow as tf\n",
        "\n",
        "#Simple dataset from slices, later will enhance all of the datasets --\n",
        "#With a function for prefetching, cacheing and autotuing\n",
        "\n",
        "train_140 = tf.data.Dataset.from_tensor_slices((X_train140,y_train140))\n",
        "test_140 = tf.data.Dataset.from_tensor_slices((X_test140,y_test140)) "
      ],
      "metadata": {
        "id": "gWY2Q-O0nrt5"
      },
      "execution_count": 15,
      "outputs": []
    },
    {
      "cell_type": "markdown",
      "source": [
        "## 2b. Now for the Sentiment Analysis for the Financial Data"
      ],
      "metadata": {
        "id": "KgTAi1QyqU2J"
      }
    },
    {
      "cell_type": "code",
      "source": [
        "!kaggle datasets download -d ankurzing/sentiment-analysis-for-financial-news"
      ],
      "metadata": {
        "id": "NE6Qy6frqiNQ",
        "colab": {
          "base_uri": "https://localhost:8080/"
        },
        "outputId": "2d65031c-829a-4cae-e7d7-dac3d6cbcdd6"
      },
      "execution_count": 16,
      "outputs": [
        {
          "output_type": "stream",
          "name": "stdout",
          "text": [
            "Downloading sentiment-analysis-for-financial-news.zip to /content\n",
            "\r  0% 0.00/903k [00:00<?, ?B/s]\n",
            "\r100% 903k/903k [00:00<00:00, 151MB/s]\n"
          ]
        }
      ]
    },
    {
      "cell_type": "code",
      "source": [
        "!unzip /content/sentiment-analysis-for-financial-news.zip"
      ],
      "metadata": {
        "id": "68vvb5vYqjCY",
        "colab": {
          "base_uri": "https://localhost:8080/"
        },
        "outputId": "a432b01d-3f49-49dc-ca0d-4e7cc6a94671"
      },
      "execution_count": 17,
      "outputs": [
        {
          "output_type": "stream",
          "name": "stdout",
          "text": [
            "Archive:  /content/sentiment-analysis-for-financial-news.zip\n",
            "  inflating: FinancialPhraseBank/License.txt  \n",
            "  inflating: FinancialPhraseBank/README.txt  \n",
            "  inflating: FinancialPhraseBank/Sentences_50Agree.txt  \n",
            "  inflating: FinancialPhraseBank/Sentences_66Agree.txt  \n",
            "  inflating: FinancialPhraseBank/Sentences_75Agree.txt  \n",
            "  inflating: FinancialPhraseBank/Sentences_AllAgree.txt  \n",
            "  inflating: all-data.csv            \n"
          ]
        }
      ]
    },
    {
      "cell_type": "code",
      "source": [
        "# according to the readme file we have a four different datasets, \n",
        "# depending on the way labeling was made. We will continiue with \"All Agree\" file.\n",
        "\n",
        "with open(\"/content/FinancialPhraseBank/Sentences_AllAgree.txt\", \"r\", errors=\"replace\", encoding='ISO-8859-1') as f:\n",
        "    text = f.readlines()"
      ],
      "metadata": {
        "id": "h5Ky1T9wqob_"
      },
      "execution_count": 18,
      "outputs": []
    },
    {
      "cell_type": "code",
      "source": [
        "text[0:3], text[-3:], len(text)  \n",
        "\n",
        "# here we have the labels as a last word in a list. \n",
        "#Also we find that there are 2264 lines only, so kind'a small set."
      ],
      "metadata": {
        "id": "uriRJNR5rqYf",
        "colab": {
          "base_uri": "https://localhost:8080/"
        },
        "outputId": "5aab02fb-d829-4668-b6a5-f9a4ceffa956"
      },
      "execution_count": 19,
      "outputs": [
        {
          "output_type": "execute_result",
          "data": {
            "text/plain": [
              "(['According to Gran , the company has no plans to move all production to Russia , although that is where the company is growing .@neutral\\n',\n",
              "  \"For the last quarter of 2010 , Componenta 's net sales doubled to EUR131m from EUR76m for the same period a year earlier , while it moved to a zero pre-tax profit from a pre-tax loss of EUR7m .@positive\\n\",\n",
              "  'In the third quarter of 2010 , net sales increased by 5.2 % to EUR 205.5 mn , and operating profit by 34.9 % to EUR 23.5 mn .@positive\\n'],\n",
              " ['LONDON MarketWatch -- Share prices ended lower in London Monday as a rebound in bank stocks failed to offset broader weakness for the FTSE 100 .@negative\\n',\n",
              "  'Operating profit fell to EUR 35.4 mn from EUR 68.8 mn in 2007 , including vessel sales gain of EUR 12.3 mn .@negative\\n',\n",
              "  'Sales in Finland decreased by 10.5 % in January , while sales outside Finland dropped by 17 % .@negative\\n'],\n",
              " 2264)"
            ]
          },
          "metadata": {},
          "execution_count": 19
        }
      ]
    },
    {
      "cell_type": "code",
      "source": [
        "label = text[0].split().pop(-1)"
      ],
      "metadata": {
        "id": "splkzrk7sHF0"
      },
      "execution_count": 20,
      "outputs": []
    },
    {
      "cell_type": "code",
      "source": [
        "def extract_label(x):\n",
        "    return x.split(\"@\").pop(-1)\n",
        "\n",
        "def extract_text(x):\n",
        "    return x.split(\"@\")[0]"
      ],
      "metadata": {
        "id": "qZh3d1T4tVSY"
      },
      "execution_count": 21,
      "outputs": []
    },
    {
      "cell_type": "code",
      "source": [
        "labels = [extract_label(sentence) for sentence in text]\n",
        "sentences = [extract_text(sentence) for sentence in text]"
      ],
      "metadata": {
        "id": "e6F9svUItePk"
      },
      "execution_count": 22,
      "outputs": []
    },
    {
      "cell_type": "code",
      "source": [
        "len(labels) == len(sentences) # check if we have"
      ],
      "metadata": {
        "id": "RPj2-MHptzqy",
        "colab": {
          "base_uri": "https://localhost:8080/"
        },
        "outputId": "175d2d06-c445-4a65-9786-3926644e5787"
      },
      "execution_count": 23,
      "outputs": [
        {
          "output_type": "execute_result",
          "data": {
            "text/plain": [
              "True"
            ]
          },
          "metadata": {},
          "execution_count": 23
        }
      ]
    },
    {
      "cell_type": "code",
      "source": [
        "sentences[0], labels[0] # sample sentence and label"
      ],
      "metadata": {
        "id": "xwKlV1a9t1l8",
        "colab": {
          "base_uri": "https://localhost:8080/"
        },
        "outputId": "8e011d4d-b2f7-454f-d8dd-b6f1b5ba3b75"
      },
      "execution_count": 24,
      "outputs": [
        {
          "output_type": "execute_result",
          "data": {
            "text/plain": [
              "('According to Gran , the company has no plans to move all production to Russia , although that is where the company is growing .',\n",
              " 'neutral\\n')"
            ]
          },
          "metadata": {},
          "execution_count": 24
        }
      ]
    },
    {
      "cell_type": "code",
      "source": [],
      "metadata": {
        "id": "mQMwhGxLuan-"
      },
      "execution_count": 24,
      "outputs": []
    },
    {
      "cell_type": "code",
      "source": [
        "text[0] # the same sentence from the text block"
      ],
      "metadata": {
        "id": "QEaWTwX9uJ-P",
        "colab": {
          "base_uri": "https://localhost:8080/",
          "height": 35
        },
        "outputId": "6bfe6c97-2c8d-4252-c875-67cc4a2d4466"
      },
      "execution_count": 25,
      "outputs": [
        {
          "output_type": "execute_result",
          "data": {
            "text/plain": [
              "'According to Gran , the company has no plans to move all production to Russia , although that is where the company is growing .@neutral\\n'"
            ],
            "application/vnd.google.colaboratory.intrinsic+json": {
              "type": "string"
            }
          },
          "metadata": {},
          "execution_count": 25
        }
      ]
    },
    {
      "cell_type": "code",
      "source": [
        "# Let's check all the labels type we have.\n",
        "import numpy as np\n",
        "\n",
        "labels_np = np.asarray(labels)\n",
        "class_names = np.unique(labels_np)\n",
        "class_names # three labels, and we want to turn them into vectors"
      ],
      "metadata": {
        "id": "0wNvnkyDu3bq",
        "colab": {
          "base_uri": "https://localhost:8080/"
        },
        "outputId": "21c556ce-92db-4f5a-ea83-e6a6d3dff6af"
      },
      "execution_count": 26,
      "outputs": [
        {
          "output_type": "execute_result",
          "data": {
            "text/plain": [
              "array(['negative\\n', 'neutral\\n', 'positive\\n'], dtype='<U9')"
            ]
          },
          "metadata": {},
          "execution_count": 26
        }
      ]
    },
    {
      "cell_type": "code",
      "source": [],
      "metadata": {
        "id": "Ry63wIamwtwz"
      },
      "execution_count": 26,
      "outputs": []
    },
    {
      "cell_type": "code",
      "source": [
        "int_labels = np.arange(0,3,1) # first we want to create an array of integer labels coresponding to the class names\n",
        "mapping_dict = dict(zip(class_names, int_labels)) # dict from zip\n",
        "vectorized_labels = np.vectorize(mapping_dict.get)(labels) # numpy vectorize with a dict.get"
      ],
      "metadata": {
        "id": "FH-sPSN5w-cs"
      },
      "execution_count": 27,
      "outputs": []
    },
    {
      "cell_type": "code",
      "source": [
        "mapping_dict"
      ],
      "metadata": {
        "id": "vfpoH3zlxxOR",
        "colab": {
          "base_uri": "https://localhost:8080/"
        },
        "outputId": "11ce431f-4f7e-44a1-c0d7-7d5c6b9a77ef"
      },
      "execution_count": 28,
      "outputs": [
        {
          "output_type": "execute_result",
          "data": {
            "text/plain": [
              "{'negative\\n': 0, 'neutral\\n': 1, 'positive\\n': 2}"
            ]
          },
          "metadata": {},
          "execution_count": 28
        }
      ]
    },
    {
      "cell_type": "code",
      "source": [
        "vectorized_labels[:10], labels[:10] # compare if everything is correct. Looks fine."
      ],
      "metadata": {
        "id": "IMAKU_J1xUBc",
        "colab": {
          "base_uri": "https://localhost:8080/"
        },
        "outputId": "5cdc8e31-adf0-4e18-97db-2334ad52ab3e"
      },
      "execution_count": 29,
      "outputs": [
        {
          "output_type": "execute_result",
          "data": {
            "text/plain": [
              "(array([1, 2, 2, 2, 2, 2, 2, 2, 2, 2]),\n",
              " ['neutral\\n',\n",
              "  'positive\\n',\n",
              "  'positive\\n',\n",
              "  'positive\\n',\n",
              "  'positive\\n',\n",
              "  'positive\\n',\n",
              "  'positive\\n',\n",
              "  'positive\\n',\n",
              "  'positive\\n',\n",
              "  'positive\\n'])"
            ]
          },
          "metadata": {},
          "execution_count": 29
        }
      ]
    },
    {
      "cell_type": "code",
      "source": [
        "# let's call train_test_split with some additional shuffling\n",
        "\n",
        "X_train_fin, X_test_fin, y_train_fin, y_test_fin = train_test_split(sentences, \n",
        "                                                                    vectorized_labels, \n",
        "                                                                    test_size=0.2, \n",
        "                                                                    shuffle=True)"
      ],
      "metadata": {
        "id": "_fAGwvIzxXIE"
      },
      "execution_count": 30,
      "outputs": []
    },
    {
      "cell_type": "code",
      "source": [
        "plt.hist(y_train_fin), plt.hist(y_test_fin) #blue is train dataset, orange is test\n",
        "plt.show() # little bit unbalanced, but gaussian like."
      ],
      "metadata": {
        "id": "O2dBtyNfvbcX",
        "colab": {
          "base_uri": "https://localhost:8080/",
          "height": 265
        },
        "outputId": "a84648e7-8df9-48df-f1ac-d0c15583d009"
      },
      "execution_count": 31,
      "outputs": [
        {
          "output_type": "display_data",
          "data": {
            "text/plain": [
              "<Figure size 432x288 with 1 Axes>"
            ],
            "image/png": "[encoded data removed]"
          },
          "metadata": {
            "needs_background": "light"
          }
        }
      ]
    },
    {
      "cell_type": "code",
      "source": [
        "#Let's make a function that will do all above in a single line, maybe other datasets are more balanced. Let's find out.\n",
        "\n",
        "def extract_data_from_file(filepath:str):\n",
        "\n",
        "    \"\"\"Function that takes out text and labels from txt files from the dataset \n",
        "    FinancialPhraseBank, and returns tuple of sklearn train_test_split \n",
        "    and an array of class_names, and plots an matplotlib  figure with a \n",
        "    distribution of labels. Returned labels are already vectorized.\"\"\"\n",
        "\n",
        "    # Open file with a proper encoding\n",
        "    with open(filepath, \"r\", errors=\"replace\", encoding='ISO-8859-1') as f:\n",
        "        text = f.readlines()\n",
        "\n",
        "    #Extract sentences and labels\n",
        "    labels = [extract_label(sentence) for sentence in text]\n",
        "\n",
        "    sentences = [extract_text(sentence) for sentence in text]\n",
        "\n",
        "\n",
        "    \n",
        "    labels_np = np.asarray(labels) #convert to numpy\n",
        "    class_names = np.unique(labels_np) #create class_names\n",
        "\n",
        "    int_labels = np.arange(0,class_names.shape[0],1) # create a vector corresponding to the class names\n",
        "    mapping_dict = dict(zip(class_names, int_labels)) # dict from zip\n",
        "    vectorized_labels = np.vectorize(mapping_dict.get)(labels) # numpy vectorize with a dict.get to map\n",
        "\n",
        "    #splitting into train and test data\n",
        "    X_train_fin, X_test_fin, y_train_fin, y_test_fin = train_test_split(sentences, \n",
        "                                                                    vectorized_labels, \n",
        "                                                                    test_size=0.2, \n",
        "                                                                    shuffle=True)\n",
        "    \n",
        "    #Plot the distribution - > blue is train dataset, orange is test\n",
        "    plt.hist(y_train_fin), plt.hist(y_test_fin) \n",
        "    plt.show()  \n",
        "\n",
        "    return (X_train_fin, X_test_fin, y_train_fin, y_test_fin), class_names"
      ],
      "metadata": {
        "id": "xUeadZPSxa3X"
      },
      "execution_count": 32,
      "outputs": []
    },
    {
      "cell_type": "code",
      "source": [],
      "metadata": {
        "id": "QHThjrh0tjfZ"
      },
      "execution_count": 32,
      "outputs": []
    },
    {
      "cell_type": "code",
      "source": [
        "fin_data_all, class_names_all = extract_data_from_file(\"/content/FinancialPhraseBank/Sentences_AllAgree.txt\")"
      ],
      "metadata": {
        "id": "UblzhZsDzIqH",
        "colab": {
          "base_uri": "https://localhost:8080/",
          "height": 265
        },
        "outputId": "20cbc063-c27d-4e54-c886-5b6a0a59f058"
      },
      "execution_count": 33,
      "outputs": [
        {
          "output_type": "display_data",
          "data": {
            "text/plain": [
              "<Figure size 432x288 with 1 Axes>"
            ],
            "image/png": "[encoded data removed]"
          },
          "metadata": {
            "needs_background": "light"
          }
        }
      ]
    },
    {
      "cell_type": "code",
      "source": [
        "fin_data_50, class_names_50 = extract_data_from_file(\"/content/FinancialPhraseBank/Sentences_50Agree.txt\")"
      ],
      "metadata": {
        "id": "KqL4YIAW1ZPx",
        "colab": {
          "base_uri": "https://localhost:8080/",
          "height": 265
        },
        "outputId": "f2d69a9b-c431-4cac-9a93-d05ce22b8162"
      },
      "execution_count": 34,
      "outputs": [
        {
          "output_type": "display_data",
          "data": {
            "text/plain": [
              "<Figure size 432x288 with 1 Axes>"
            ],
            "image/png": "[encoded data removed]"
          },
          "metadata": {
            "needs_background": "light"
          }
        }
      ]
    },
    {
      "cell_type": "code",
      "source": [
        "fin_data_66, class_names_66 = extract_data_from_file(\"/content/FinancialPhraseBank/Sentences_66Agree.txt\")"
      ],
      "metadata": {
        "id": "EZRkisfH2RwG",
        "colab": {
          "base_uri": "https://localhost:8080/",
          "height": 265
        },
        "outputId": "a76fb844-ac9f-4308-91ef-f49703b16739"
      },
      "execution_count": 35,
      "outputs": [
        {
          "output_type": "display_data",
          "data": {
            "text/plain": [
              "<Figure size 432x288 with 1 Axes>"
            ],
            "image/png": "[encoded data removed]"
          },
          "metadata": {
            "needs_background": "light"
          }
        }
      ]
    },
    {
      "cell_type": "code",
      "source": [
        "fin_data_75, class_names_75 = extract_data_from_file(\"/content/FinancialPhraseBank/Sentences_75Agree.txt\")"
      ],
      "metadata": {
        "id": "_Tdo-ucH2V0M",
        "colab": {
          "base_uri": "https://localhost:8080/",
          "height": 265
        },
        "outputId": "0750c296-1be2-45ad-b343-9e7c1b0310f6"
      },
      "execution_count": 36,
      "outputs": [
        {
          "output_type": "display_data",
          "data": {
            "text/plain": [
              "<Figure size 432x288 with 1 Axes>"
            ],
            "image/png": "[encoded data removed]"
          },
          "metadata": {
            "needs_background": "light"
          }
        }
      ]
    },
    {
      "cell_type": "code",
      "source": [
        "fin_data_50[2].shape, fin_data_50[3].shape"
      ],
      "metadata": {
        "id": "fT7DZaZq2bPv",
        "colab": {
          "base_uri": "https://localhost:8080/"
        },
        "outputId": "f55b2786-c083-48e7-8c28-131ce19d3b04"
      },
      "execution_count": 37,
      "outputs": [
        {
          "output_type": "execute_result",
          "data": {
            "text/plain": [
              "((3876,), (970,))"
            ]
          },
          "metadata": {},
          "execution_count": 37
        }
      ]
    },
    {
      "cell_type": "code",
      "source": [
        "#All the data are imbalanced, but in the same way. \n",
        "#We will continue with the data with most samples - which is 50Agree dataset.\n",
        "#Time for turning them into tensors!\n",
        "\n",
        "train_fin = tf.data.Dataset.from_tensor_slices((fin_data_50[0],fin_data_50[2]))\n",
        "test_fin = tf.data.Dataset.from_tensor_slices((fin_data_50[1],fin_data_50[3]))"
      ],
      "metadata": {
        "id": "-mFiPzRU2joY"
      },
      "execution_count": 38,
      "outputs": []
    },
    {
      "cell_type": "markdown",
      "source": [
        "## 2c. Preprocessed twitter tweets!"
      ],
      "metadata": {
        "id": "CTmsMk8P3sTC"
      }
    },
    {
      "cell_type": "code",
      "source": [
        "!kaggle datasets download -d shashank1558/preprocessed-twitter-tweets"
      ],
      "metadata": {
        "id": "Gi81TV3Y3ZxK",
        "colab": {
          "base_uri": "https://localhost:8080/"
        },
        "outputId": "18526565-614b-492c-bfaa-0a782400203f"
      },
      "execution_count": 39,
      "outputs": [
        {
          "output_type": "stream",
          "name": "stdout",
          "text": [
            "Downloading preprocessed-twitter-tweets.zip to /content\n",
            "\r  0% 0.00/74.8k [00:00<?, ?B/s]\n",
            "\r100% 74.8k/74.8k [00:00<00:00, 56.1MB/s]\n"
          ]
        }
      ]
    },
    {
      "cell_type": "code",
      "source": [
        "#For extracting the last zipfile, we will use zipFile this time to keep control over directories much easier\n",
        "\n",
        "from zipfile import ZipFile\n",
        "\n",
        "with ZipFile('/content/preprocessed-twitter-tweets.zip', 'r') as zipObj:\n",
        "   # Extract all the contents of zip file in current directory\n",
        "   zipObj.extractall(\"/content/preprocessed_tweets/\")\n"
      ],
      "metadata": {
        "id": "vxlGHLsw4D-D"
      },
      "execution_count": 40,
      "outputs": []
    },
    {
      "cell_type": "code",
      "source": [
        "# this time we have different sentiment in different files, also three categories\n",
        "# firstly, let's take a look at those files.\n",
        "\n",
        "negative = pd.read_csv(\"/content/preprocessed_tweets/processedNegative.csv\").T.reset_index() #some transformations for easy reading\n",
        "neutral = pd.read_csv(\"/content/preprocessed_tweets/processedNeutral.csv\").T.reset_index()\n",
        "positive = pd.read_csv(\"/content/preprocessed_tweets/processedPositive.csv\").T.reset_index()"
      ],
      "metadata": {
        "id": "vYXIS5Iw5JLI"
      },
      "execution_count": 41,
      "outputs": []
    },
    {
      "cell_type": "code",
      "source": [
        "negative.shape, neutral.shape, positive.shape, # looks like a normal distribution, but much more balanced then previous financial data"
      ],
      "metadata": {
        "id": "H5ohjLtI5qqM",
        "colab": {
          "base_uri": "https://localhost:8080/"
        },
        "outputId": "5d642754-f4a9-43b7-baa8-cdf8f233cd34"
      },
      "execution_count": 42,
      "outputs": [
        {
          "output_type": "execute_result",
          "data": {
            "text/plain": [
              "((1117, 1), (1570, 1), (1186, 1))"
            ]
          },
          "metadata": {},
          "execution_count": 42
        }
      ]
    },
    {
      "cell_type": "code",
      "source": [
        "negative.head()"
      ],
      "metadata": {
        "id": "aR0KOnHJ5vIN",
        "colab": {
          "base_uri": "https://localhost:8080/",
          "height": 206
        },
        "outputId": "f3df9460-83d7-44fc-a2cc-650198aea11d"
      },
      "execution_count": 43,
      "outputs": [
        {
          "output_type": "execute_result",
          "data": {
            "text/plain": [
              "                                               index\n",
              "0              How unhappy  some dogs like it though\n",
              "1  talking to my over driver about where I'm goin...\n",
              "2  Does anybody know if the Rand's likely to fall...\n",
              "3         I miss going to gigs in Liverpool unhappy \n",
              "4      There isnt a new Riverdale tonight ? unhappy "
            ],
            "text/html": [
              "\n",
              "  <div id=\"df-45ac9160-04b4-4275-9884-1076777a9dc3\">\n",
              "    <div class=\"colab-df-container\">\n",
              "      <div>\n",
              "<style scoped>\n",
              "    .dataframe tbody tr th:only-of-type {\n",
              "        vertical-align: middle;\n",
              "    }\n",
              "\n",
              "    .dataframe tbody tr th {\n",
              "        vertical-align: top;\n",
              "    }\n",
              "\n",
              "    .dataframe thead th {\n",
              "        text-align: right;\n",
              "    }\n",
              "</style>\n",
              "<table border=\"1\" class=\"dataframe\">\n",
              "  <thead>\n",
              "    <tr style=\"text-align: right;\">\n",
              "      <th></th>\n",
              "      <th>index</th>\n",
              "    </tr>\n",
              "  </thead>\n",
              "  <tbody>\n",
              "    <tr>\n",
              "      <th>0</th>\n",
              "      <td>How unhappy  some dogs like it though</td>\n",
              "    </tr>\n",
              "    <tr>\n",
              "      <th>1</th>\n",
              "      <td>talking to my over driver about where I'm goin...</td>\n",
              "    </tr>\n",
              "    <tr>\n",
              "      <th>2</th>\n",
              "      <td>Does anybody know if the Rand's likely to fall...</td>\n",
              "    </tr>\n",
              "    <tr>\n",
              "      <th>3</th>\n",
              "      <td>I miss going to gigs in Liverpool unhappy</td>\n",
              "    </tr>\n",
              "    <tr>\n",
              "      <th>4</th>\n",
              "      <td>There isnt a new Riverdale tonight ? unhappy</td>\n",
              "    </tr>\n",
              "  </tbody>\n",
              "</table>\n",
              "</div>\n",
              "      <button class=\"colab-df-convert\" onclick=\"convertToInteractive('df-45ac9160-04b4-4275-9884-1076777a9dc3')\"\n",
              "              title=\"Convert this dataframe to an interactive table.\"\n",
              "              style=\"display:none;\">\n",
              "        \n",
              "  <svg xmlns=\"http://www.w3.org/2000/svg\" height=\"24px\"viewBox=\"0 0 24 24\"\n",
              "       width=\"24px\">\n",
              "    <path d=\"M0 0h24v24H0V0z\" fill=\"none\"/>\n",
              "    <path d=\"M18.56 5.44l.94 2.06.94-2.06 2.06-.94-2.06-.94-.94-2.06-.94 2.06-2.06.94zm-11 1L8.5 8.5l.94-2.06 2.06-.94-2.06-.94L8.5 2.5l-.94 2.06-2.06.94zm10 10l.94 2.06.94-2.06 2.06-.94-2.06-.94-.94-2.06-.94 2.06-2.06.94z\"/><path d=\"M17.41 7.96l-1.37-1.37c-.4-.4-.92-.59-1.43-.59-.52 0-1.04.2-1.43.59L10.3 9.45l-7.72 7.72c-.78.78-.78 2.05 0 2.83L4 21.41c.39.39.9.59 1.41.59.51 0 1.02-.2 1.41-.59l7.78-7.78 2.81-2.81c.8-.78.8-2.07 0-2.86zM5.41 20L4 18.59l7.72-7.72 1.47 1.35L5.41 20z\"/>\n",
              "  </svg>\n",
              "      </button>\n",
              "      \n",
              "  <style>\n",
              "    .colab-df-container {\n",
              "      display:flex;\n",
              "      flex-wrap:wrap;\n",
              "      gap: 12px;\n",
              "    }\n",
              "\n",
              "    .colab-df-convert {\n",
              "      background-color: #E8F0FE;\n",
              "      border: none;\n",
              "      border-radius: 50%;\n",
              "      cursor: pointer;\n",
              "      display: none;\n",
              "      fill: #1967D2;\n",
              "      height: 32px;\n",
              "      padding: 0 0 0 0;\n",
              "      width: 32px;\n",
              "    }\n",
              "\n",
              "    .colab-df-convert:hover {\n",
              "      background-color: #E2EBFA;\n",
              "      box-shadow: 0px 1px 2px rgba(60, 64, 67, 0.3), 0px 1px 3px 1px rgba(60, 64, 67, 0.15);\n",
              "      fill: #174EA6;\n",
              "    }\n",
              "\n",
              "    [theme=dark] .colab-df-convert {\n",
              "      background-color: #3B4455;\n",
              "      fill: #D2E3FC;\n",
              "    }\n",
              "\n",
              "    [theme=dark] .colab-df-convert:hover {\n",
              "      background-color: #434B5C;\n",
              "      box-shadow: 0px 1px 3px 1px rgba(0, 0, 0, 0.15);\n",
              "      filter: drop-shadow(0px 1px 2px rgba(0, 0, 0, 0.3));\n",
              "      fill: #FFFFFF;\n",
              "    }\n",
              "  </style>\n",
              "\n",
              "      <script>\n",
              "        const buttonEl =\n",
              "          document.querySelector('#df-45ac9160-04b4-4275-9884-1076777a9dc3 button.colab-df-convert');\n",
              "        buttonEl.style.display =\n",
              "          google.colab.kernel.accessAllowed ? 'block' : 'none';\n",
              "\n",
              "        async function convertToInteractive(key) {\n",
              "          const element = document.querySelector('#df-45ac9160-04b4-4275-9884-1076777a9dc3');\n",
              "          const dataTable =\n",
              "            await google.colab.kernel.invokeFunction('convertToInteractive',\n",
              "                                                     [key], {});\n",
              "          if (!dataTable) return;\n",
              "\n",
              "          const docLinkHtml = 'Like what you see? Visit the ' +\n",
              "            '<a target=\"_blank\" href=https://colab.research.google.com/notebooks/data_table.ipynb>data table notebook</a>'\n",
              "            + ' to learn more about interactive tables.';\n",
              "          element.innerHTML = '';\n",
              "          dataTable['output_type'] = 'display_data';\n",
              "          await google.colab.output.renderOutput(dataTable, element);\n",
              "          const docLink = document.createElement('div');\n",
              "          docLink.innerHTML = docLinkHtml;\n",
              "          element.appendChild(docLink);\n",
              "        }\n",
              "      </script>\n",
              "    </div>\n",
              "  </div>\n",
              "  "
            ]
          },
          "metadata": {},
          "execution_count": 43
        }
      ]
    },
    {
      "cell_type": "code",
      "source": [
        "positive.head()"
      ],
      "metadata": {
        "id": "TpwhmbEB6Boc",
        "colab": {
          "base_uri": "https://localhost:8080/",
          "height": 206
        },
        "outputId": "8a20c260-22fc-4fa3-fd0d-65ba3cb4cc0d"
      },
      "execution_count": 44,
      "outputs": [
        {
          "output_type": "execute_result",
          "data": {
            "text/plain": [
              "                                               index\n",
              "0             An inspiration in all aspects: Fashion\n",
              "1                                            fitness\n",
              "2    beauty and personality. :)KISSES TheFashionIcon\n",
              "3  Apka Apna Awam Ka Channel Frankline Tv Aam Adm...\n",
              "4  Beautiful album from  the greatest unsung guit..."
            ],
            "text/html": [
              "\n",
              "  <div id=\"df-0c047961-1a3e-4d4a-88c3-d1ab08f10fdc\">\n",
              "    <div class=\"colab-df-container\">\n",
              "      <div>\n",
              "<style scoped>\n",
              "    .dataframe tbody tr th:only-of-type {\n",
              "        vertical-align: middle;\n",
              "    }\n",
              "\n",
              "    .dataframe tbody tr th {\n",
              "        vertical-align: top;\n",
              "    }\n",
              "\n",
              "    .dataframe thead th {\n",
              "        text-align: right;\n",
              "    }\n",
              "</style>\n",
              "<table border=\"1\" class=\"dataframe\">\n",
              "  <thead>\n",
              "    <tr style=\"text-align: right;\">\n",
              "      <th></th>\n",
              "      <th>index</th>\n",
              "    </tr>\n",
              "  </thead>\n",
              "  <tbody>\n",
              "    <tr>\n",
              "      <th>0</th>\n",
              "      <td>An inspiration in all aspects: Fashion</td>\n",
              "    </tr>\n",
              "    <tr>\n",
              "      <th>1</th>\n",
              "      <td>fitness</td>\n",
              "    </tr>\n",
              "    <tr>\n",
              "      <th>2</th>\n",
              "      <td>beauty and personality. :)KISSES TheFashionIcon</td>\n",
              "    </tr>\n",
              "    <tr>\n",
              "      <th>3</th>\n",
              "      <td>Apka Apna Awam Ka Channel Frankline Tv Aam Adm...</td>\n",
              "    </tr>\n",
              "    <tr>\n",
              "      <th>4</th>\n",
              "      <td>Beautiful album from  the greatest unsung guit...</td>\n",
              "    </tr>\n",
              "  </tbody>\n",
              "</table>\n",
              "</div>\n",
              "      <button class=\"colab-df-convert\" onclick=\"convertToInteractive('df-0c047961-1a3e-4d4a-88c3-d1ab08f10fdc')\"\n",
              "              title=\"Convert this dataframe to an interactive table.\"\n",
              "              style=\"display:none;\">\n",
              "        \n",
              "  <svg xmlns=\"http://www.w3.org/2000/svg\" height=\"24px\"viewBox=\"0 0 24 24\"\n",
              "       width=\"24px\">\n",
              "    <path d=\"M0 0h24v24H0V0z\" fill=\"none\"/>\n",
              "    <path d=\"M18.56 5.44l.94 2.06.94-2.06 2.06-.94-2.06-.94-.94-2.06-.94 2.06-2.06.94zm-11 1L8.5 8.5l.94-2.06 2.06-.94-2.06-.94L8.5 2.5l-.94 2.06-2.06.94zm10 10l.94 2.06.94-2.06 2.06-.94-2.06-.94-.94-2.06-.94 2.06-2.06.94z\"/><path d=\"M17.41 7.96l-1.37-1.37c-.4-.4-.92-.59-1.43-.59-.52 0-1.04.2-1.43.59L10.3 9.45l-7.72 7.72c-.78.78-.78 2.05 0 2.83L4 21.41c.39.39.9.59 1.41.59.51 0 1.02-.2 1.41-.59l7.78-7.78 2.81-2.81c.8-.78.8-2.07 0-2.86zM5.41 20L4 18.59l7.72-7.72 1.47 1.35L5.41 20z\"/>\n",
              "  </svg>\n",
              "      </button>\n",
              "      \n",
              "  <style>\n",
              "    .colab-df-container {\n",
              "      display:flex;\n",
              "      flex-wrap:wrap;\n",
              "      gap: 12px;\n",
              "    }\n",
              "\n",
              "    .colab-df-convert {\n",
              "      background-color: #E8F0FE;\n",
              "      border: none;\n",
              "      border-radius: 50%;\n",
              "      cursor: pointer;\n",
              "      display: none;\n",
              "      fill: #1967D2;\n",
              "      height: 32px;\n",
              "      padding: 0 0 0 0;\n",
              "      width: 32px;\n",
              "    }\n",
              "\n",
              "    .colab-df-convert:hover {\n",
              "      background-color: #E2EBFA;\n",
              "      box-shadow: 0px 1px 2px rgba(60, 64, 67, 0.3), 0px 1px 3px 1px rgba(60, 64, 67, 0.15);\n",
              "      fill: #174EA6;\n",
              "    }\n",
              "\n",
              "    [theme=dark] .colab-df-convert {\n",
              "      background-color: #3B4455;\n",
              "      fill: #D2E3FC;\n",
              "    }\n",
              "\n",
              "    [theme=dark] .colab-df-convert:hover {\n",
              "      background-color: #434B5C;\n",
              "      box-shadow: 0px 1px 3px 1px rgba(0, 0, 0, 0.15);\n",
              "      filter: drop-shadow(0px 1px 2px rgba(0, 0, 0, 0.3));\n",
              "      fill: #FFFFFF;\n",
              "    }\n",
              "  </style>\n",
              "\n",
              "      <script>\n",
              "        const buttonEl =\n",
              "          document.querySelector('#df-0c047961-1a3e-4d4a-88c3-d1ab08f10fdc button.colab-df-convert');\n",
              "        buttonEl.style.display =\n",
              "          google.colab.kernel.accessAllowed ? 'block' : 'none';\n",
              "\n",
              "        async function convertToInteractive(key) {\n",
              "          const element = document.querySelector('#df-0c047961-1a3e-4d4a-88c3-d1ab08f10fdc');\n",
              "          const dataTable =\n",
              "            await google.colab.kernel.invokeFunction('convertToInteractive',\n",
              "                                                     [key], {});\n",
              "          if (!dataTable) return;\n",
              "\n",
              "          const docLinkHtml = 'Like what you see? Visit the ' +\n",
              "            '<a target=\"_blank\" href=https://colab.research.google.com/notebooks/data_table.ipynb>data table notebook</a>'\n",
              "            + ' to learn more about interactive tables.';\n",
              "          element.innerHTML = '';\n",
              "          dataTable['output_type'] = 'display_data';\n",
              "          await google.colab.output.renderOutput(dataTable, element);\n",
              "          const docLink = document.createElement('div');\n",
              "          docLink.innerHTML = docLinkHtml;\n",
              "          element.appendChild(docLink);\n",
              "        }\n",
              "      </script>\n",
              "    </div>\n",
              "  </div>\n",
              "  "
            ]
          },
          "metadata": {},
          "execution_count": 44
        }
      ]
    },
    {
      "cell_type": "code",
      "source": [
        "# now we wanna add a sentiment label to each of the dataframes, and concatanate them\n",
        "# we'll keep the same order as with previous Dataset\n",
        "\n",
        "negative[\"sentiment\"] = 0\n",
        "neutral[\"sentiment\"] = 1\n",
        "positive[\"sentiment\"] = 2\n",
        "\n",
        "dataset_twitter = pd.concat([negative, neutral, positive])\n",
        "dataset_twitter.rename(columns={\"index\":\"text\"}, inplace=True) # because index may be mistaken later on"
      ],
      "metadata": {
        "id": "9ekLXn2C8Vt0"
      },
      "execution_count": 45,
      "outputs": []
    },
    {
      "cell_type": "code",
      "source": [
        "dataset_twitter = dataset_twitter.sample(frac=1) # shuffle a bit"
      ],
      "metadata": {
        "id": "AJbeJ8-o893g"
      },
      "execution_count": 46,
      "outputs": []
    },
    {
      "cell_type": "code",
      "source": [
        "X_train_twitter, X_test_twitter, y_train_twitter, y_test_twitter = train_test_split(dataset_twitter.text.to_numpy(), \n",
        "                 dataset_twitter.sentiment.to_numpy(),\n",
        "                 test_size=0.2,\n",
        "                 shuffle=True)"
      ],
      "metadata": {
        "id": "GKkEhLq29FWd"
      },
      "execution_count": 47,
      "outputs": []
    },
    {
      "cell_type": "code",
      "source": [
        "plt.hist(y_train_twitter), plt.hist(y_test_twitter) #Check the final distribution of labels\n",
        "plt.show()"
      ],
      "metadata": {
        "id": "eTfEKLX79Uyr",
        "colab": {
          "base_uri": "https://localhost:8080/",
          "height": 265
        },
        "outputId": "9b8a1fb7-8029-4870-93be-5685381081fe"
      },
      "execution_count": 48,
      "outputs": [
        {
          "output_type": "display_data",
          "data": {
            "text/plain": [
              "<Figure size 432x288 with 1 Axes>"
            ],
            "image/png": "[encoded data removed]"
          },
          "metadata": {
            "needs_background": "light"
          }
        }
      ]
    },
    {
      "cell_type": "code",
      "source": [
        "# And now into tensors\n",
        "\n",
        "train_twitter = tf.data.Dataset.from_tensor_slices((X_train_twitter, y_train_twitter))\n",
        "test_twitter = tf.data.Dataset.from_tensor_slices((X_test_twitter, y_test_twitter))"
      ],
      "metadata": {
        "id": "eiNiAhU6-Eva"
      },
      "execution_count": 49,
      "outputs": []
    },
    {
      "cell_type": "markdown",
      "source": [
        "### Extras - preprocess all the datasets. \n",
        "We will do prefetch, batch and autotune to make those sets works faster with TF. We will also prepare different batch size versions."
      ],
      "metadata": {
        "id": "2yhc2cTH-9qz"
      }
    },
    {
      "cell_type": "code",
      "source": [
        "def preprocess(dataset, batch_size):\n",
        "    return dataset.cache().batch(batch_size).prefetch(tf.data.AUTOTUNE)"
      ],
      "metadata": {
        "id": "rNfFcwZJ_R-_"
      },
      "execution_count": 50,
      "outputs": []
    },
    {
      "cell_type": "code",
      "source": [
        "# apply above function\n",
        "\n",
        "#FIRST DATASET - Sentiment 140\n",
        "train_140_32 = preprocess(train_140, 32)\n",
        "test_140_32 = preprocess(test_140, 32)\n",
        "\n",
        "\n",
        "#SECOND DATASET - FinancialPhraseBank 50Agree\n",
        "train_fin_32 = preprocess(train_fin, 32)\n",
        "test_fin_32 = preprocess(test_fin, 32)\n",
        "\n",
        "\n",
        "#THIRD DATASET - Preprocessed Tweets\n",
        "train_tw_32 = preprocess(train_twitter, 32)\n",
        "test_tw_32 = preprocess(test_twitter, 32)"
      ],
      "metadata": {
        "id": "Iz6BpiaF_azf"
      },
      "execution_count": 51,
      "outputs": []
    },
    {
      "cell_type": "markdown",
      "source": [
        "#3. Time to build a model.\n",
        "\n",
        "I tested a couple of models for a similar cases, and will implement one that was working best so far."
      ],
      "metadata": {
        "id": "S-BZi40ABBHw"
      }
    },
    {
      "cell_type": "code",
      "source": [
        "from tensorflow.keras import layers\n",
        "import tensorflow_hub as hub\n",
        "\n",
        "# we will download a KerasLayer UniversalSentenceEncoder\n",
        "use = hub.KerasLayer(\"https://tfhub.dev/google/universal-sentence-encoder/4\", \n",
        "                     input_shape=[], dtype=tf.string, trainable=False, name=\"USE\")\n"
      ],
      "metadata": {
        "id": "_2Ze0eIxAPrB"
      },
      "execution_count": 52,
      "outputs": []
    },
    {
      "cell_type": "code",
      "source": [
        "#We will need two different models, so we will functionize building them, according to categorical or binary classification\n",
        "def build_model(batch_szie, name, lstm_node_1=128, \n",
        "                  lstm_node_2=128, \n",
        "                  dense_nodes=128, softmax=True, num_classes=3):\n",
        "\n",
        "    \"\"\"Functional API model, where you can define if you want softmax or sigmoid activation for the final layer.\n",
        "        Optimizer: Adam,\n",
        "        Loss: Depending SparseCategoricalCrossEntropy or BinaryCrossEntropy\n",
        "        Metrics: Accuracy, but we will evaluate them later on with a specific function\n",
        "\n",
        "    Returns: compiled model\n",
        "    \"\"\"\n",
        "\n",
        "    inputs = layers.Input((), batch_szie, dtype=tf.string) #One sentence at a time\n",
        "    embeddings = use(inputs) #pretrained embeddings through Universal Sentence Encoder\n",
        "\n",
        "    #reshape embeddings for LSTM\n",
        " \n",
        "    #LSTM tower\n",
        "    lstm_1 = layers.LSTM(lstm_node_1, name=\"lstm_1\", return_sequences=True)(tf.expand_dims(embeddings, 1)) #here wehave to expand dims according to lstm layer specification -> [Batch, timesteps(additional dimension), feature]\n",
        "    lstm_2 = layers.LSTM(lstm_node_2, name=\"lstm_2\")(lstm_1)\n",
        "\n",
        "    #Dense layer\n",
        "    dense = layers.Dense(dense_nodes, activation=\"relu\")(lstm_2)\n",
        "\n",
        "    #output layer with a switch\n",
        "    outputs = layers.Dense(num_classes, activation=\"softmax\")(dense) if softmax else layers.Dense(1, activation=\"sigmoid\")(dense)\n",
        "\n",
        "    #Build a model\n",
        "    model = tf.keras.Model(inputs, outputs, name=name)\n",
        "\n",
        "    #define a loss function according to a switch\n",
        "    loss = tf.keras.losses.SparseCategoricalCrossentropy() if softmax else tf.keras.losses.BinaryCrossentropy()\n",
        "    model.compile(loss=loss, \n",
        "                  optimizer=tf.keras.optimizers.Adam(), \n",
        "                  metrics=['accuracy'])\n",
        "    \n",
        "    return model"
      ],
      "metadata": {
        "id": "iF170xwzBRUX"
      },
      "execution_count": 53,
      "outputs": []
    },
    {
      "cell_type": "code",
      "source": [
        "model_140_32 = build_model(32, \"140_32\")"
      ],
      "metadata": {
        "id": "NZiNOA5iE-yv"
      },
      "execution_count": 54,
      "outputs": []
    },
    {
      "cell_type": "code",
      "source": [
        "model_140_32.summary() # as everything is working fine, we will build every other model"
      ],
      "metadata": {
        "id": "scH1lsIXFL0n",
        "colab": {
          "base_uri": "https://localhost:8080/"
        },
        "outputId": "bdfa38c7-aea8-45a3-8900-a389572c8517"
      },
      "execution_count": 55,
      "outputs": [
        {
          "output_type": "stream",
          "name": "stdout",
          "text": [
            "Model: \"140_32\"\n",
            "_________________________________________________________________\n",
            " Layer (type)                Output Shape              Param #   \n",
            "=================================================================\n",
            " input_1 (InputLayer)        [(32,)]                   0         \n",
            "                                                                 \n",
            " USE (KerasLayer)            (None, 512)               256797824 \n",
            "                                                                 \n",
            " tf.expand_dims (TFOpLambda)  (None, 1, 512)           0         \n",
            "                                                                 \n",
            " lstm_1 (LSTM)               (None, 1, 128)            328192    \n",
            "                                                                 \n",
            " lstm_2 (LSTM)               (None, 128)               131584    \n",
            "                                                                 \n",
            " dense (Dense)               (None, 128)               16512     \n",
            "                                                                 \n",
            " dense_1 (Dense)             (None, 3)                 387       \n",
            "                                                                 \n",
            "=================================================================\n",
            "Total params: 257,274,499\n",
            "Trainable params: 476,675\n",
            "Non-trainable params: 256,797,824\n",
            "_________________________________________________________________\n"
          ]
        }
      ]
    },
    {
      "cell_type": "code",
      "source": [
        "# we are compiling a model for every batch size for each of the datasets\n",
        "\n",
        "model_140_32 = build_model(32, \"140_32\", softmax=False) # compiling and building once again to keep it nice and clean\n",
        "model_fin_32 = build_model(32, \"fin_32\")\n",
        "model_twt_32 = build_model(32, \"twt_32\")"
      ],
      "metadata": {
        "id": "YTafZ2irF0ux"
      },
      "execution_count": 56,
      "outputs": []
    },
    {
      "cell_type": "code",
      "source": [
        "model_fin_32.summary()"
      ],
      "metadata": {
        "id": "OYi4pqWzRG6l",
        "colab": {
          "base_uri": "https://localhost:8080/"
        },
        "outputId": "b553d7dd-a4fd-4d46-9c76-48637bcf6ccb"
      },
      "execution_count": 57,
      "outputs": [
        {
          "output_type": "stream",
          "name": "stdout",
          "text": [
            "Model: \"fin_32\"\n",
            "_________________________________________________________________\n",
            " Layer (type)                Output Shape              Param #   \n",
            "=================================================================\n",
            " input_3 (InputLayer)        [(32,)]                   0         \n",
            "                                                                 \n",
            " USE (KerasLayer)            (None, 512)               256797824 \n",
            "                                                                 \n",
            " tf.expand_dims_2 (TFOpLambd  (None, 1, 512)           0         \n",
            " a)                                                              \n",
            "                                                                 \n",
            " lstm_1 (LSTM)               (None, 1, 128)            328192    \n",
            "                                                                 \n",
            " lstm_2 (LSTM)               (None, 128)               131584    \n",
            "                                                                 \n",
            " dense_4 (Dense)             (None, 128)               16512     \n",
            "                                                                 \n",
            " dense_5 (Dense)             (None, 3)                 387       \n",
            "                                                                 \n",
            "=================================================================\n",
            "Total params: 257,274,499\n",
            "Trainable params: 476,675\n",
            "Non-trainable params: 256,797,824\n",
            "_________________________________________________________________\n"
          ]
        }
      ]
    },
    {
      "cell_type": "code",
      "source": [
        "# And now we want to make a function that will train each model on each of the datasets\n",
        "\n",
        "def train(model, ds, val_ds, epochs=5, with_callbacks=True, patience=4):\n",
        "    \"\"\"This function will fit the model on each of a datasets, \n",
        "    on a specific amount of epochs, saving everything up into dictionary\"\"\"\n",
        "\n",
        "    #Let's start from creating a callbacks according to the function arguments\n",
        "\n",
        "    if with_callbacks:\n",
        "        checkpoint_save = tf.keras.callbacks.ModelCheckpoint(f\"/content/model_checkpoints/{model.name}\", \n",
        "                                                            save_best_only=True)\n",
        "        reduce_lr = tf.keras.callbacks.ReduceLROnPlateau(patience=patience)\n",
        "        early_stopping = tf.keras.callbacks.EarlyStopping(monitor='val_loss',\n",
        "                                                          restore_best_weights=True, patience=patience+1)\n",
        "\n",
        "        callbacks = [checkpoint_save, reduce_lr, early_stopping]\n",
        "    else:\n",
        "        callbacks = []\n",
        "\n",
        "    # now let's train the model\n",
        "\n",
        "    # dictionary for the outputs of training\n",
        "    models = {}\n",
        "\n",
        "    #training\n",
        "\n",
        "    history_model = model.fit(ds, epochs=epochs, \n",
        "                                    validation_data=val_ds, callbacks=callbacks)\n",
        "            \n",
        "    models[f\"history_{model.name}\"] = history_model\n",
        "    models[f\"model_{model.name}\"] = model\n",
        "\n",
        "    return models\n",
        "\n"
      ],
      "metadata": {
        "id": "NoahNi3GG5a8"
      },
      "execution_count": 58,
      "outputs": []
    },
    {
      "cell_type": "code",
      "source": [
        "trained_140_32 = train(model_140_32, train_140_32, test_140_32)"
      ],
      "metadata": {
        "id": "A7BX4i7SK_rK",
        "colab": {
          "base_uri": "https://localhost:8080/"
        },
        "outputId": "381c22da-1f48-4fea-ee1d-66c2334f6983"
      },
      "execution_count": 59,
      "outputs": [
        {
          "output_type": "stream",
          "name": "stdout",
          "text": [
            "Epoch 1/5\n",
            "80/80 [==============================] - ETA: 0s - loss: 0.6106 - accuracy: 0.6875"
          ]
        },
        {
          "output_type": "stream",
          "name": "stderr",
          "text": [
            "WARNING:absl:Found untraced functions such as lstm_cell_2_layer_call_fn, lstm_cell_2_layer_call_and_return_conditional_losses, lstm_cell_3_layer_call_fn, lstm_cell_3_layer_call_and_return_conditional_losses while saving (showing 4 of 4). These functions will not be directly callable after loading.\n",
            "WARNING:absl:<keras.layers.recurrent.LSTMCell object at 0x7f46c452b590> has the same name 'LSTMCell' as a built-in Keras object. Consider renaming <class 'keras.layers.recurrent.LSTMCell'> to avoid naming conflicts when loading with `tf.keras.models.load_model`. If renaming is not possible, pass the object in the `custom_objects` parameter of the load function.\n",
            "WARNING:absl:<keras.layers.recurrent.LSTMCell object at 0x7f46c44ff210> has the same name 'LSTMCell' as a built-in Keras object. Consider renaming <class 'keras.layers.recurrent.LSTMCell'> to avoid naming conflicts when loading with `tf.keras.models.load_model`. If renaming is not possible, pass the object in the `custom_objects` parameter of the load function.\n"
          ]
        },
        {
          "output_type": "stream",
          "name": "stdout",
          "text": [
            "\b\b\b\b\b\b\b\b\b\b\b\b\b\b\b\b\b\b\b\b\b\b\b\b\b\b\b\b\b\b\b\b\b\b\b\b\b\b\b\b\b\b\b\b\b\b\b\b\b\b\b\b\b\b\b\b\b\b\b\b\b\b\b\b\b\b\b\b\b\b\b\b\b\b\b\b\b\b\b\b\b\b\r80/80 [==============================] - 32s 254ms/step - loss: 0.6106 - accuracy: 0.6875 - val_loss: 0.5311 - val_accuracy: 0.7359 - lr: 0.0010\n",
            "Epoch 2/5\n",
            "76/80 [===========================>..] - ETA: 0s - loss: 0.4795 - accuracy: 0.7759"
          ]
        },
        {
          "output_type": "stream",
          "name": "stderr",
          "text": [
            "WARNING:absl:Found untraced functions such as lstm_cell_2_layer_call_fn, lstm_cell_2_layer_call_and_return_conditional_losses, lstm_cell_3_layer_call_fn, lstm_cell_3_layer_call_and_return_conditional_losses while saving (showing 4 of 4). These functions will not be directly callable after loading.\n",
            "WARNING:absl:<keras.layers.recurrent.LSTMCell object at 0x7f46c452b590> has the same name 'LSTMCell' as a built-in Keras object. Consider renaming <class 'keras.layers.recurrent.LSTMCell'> to avoid naming conflicts when loading with `tf.keras.models.load_model`. If renaming is not possible, pass the object in the `custom_objects` parameter of the load function.\n",
            "WARNING:absl:<keras.layers.recurrent.LSTMCell object at 0x7f46c44ff210> has the same name 'LSTMCell' as a built-in Keras object. Consider renaming <class 'keras.layers.recurrent.LSTMCell'> to avoid naming conflicts when loading with `tf.keras.models.load_model`. If renaming is not possible, pass the object in the `custom_objects` parameter of the load function.\n"
          ]
        },
        {
          "output_type": "stream",
          "name": "stdout",
          "text": [
            "\b\b\b\b\b\b\b\b\b\b\b\b\b\b\b\b\b\b\b\b\b\b\b\b\b\b\b\b\b\b\b\b\b\b\b\b\b\b\b\b\b\b\b\b\b\b\b\b\b\b\b\b\b\b\b\b\b\b\b\b\b\b\b\b\b\b\b\b\b\b\b\b\b\b\b\b\b\b\b\b\b\b\r80/80 [==============================] - 17s 220ms/step - loss: 0.4763 - accuracy: 0.7766 - val_loss: 0.5210 - val_accuracy: 0.7453 - lr: 0.0010\n",
            "Epoch 3/5\n",
            "80/80 [==============================] - 1s 14ms/step - loss: 0.4564 - accuracy: 0.7973 - val_loss: 0.5269 - val_accuracy: 0.7406 - lr: 0.0010\n",
            "Epoch 4/5\n",
            "80/80 [==============================] - 1s 14ms/step - loss: 0.4448 - accuracy: 0.8016 - val_loss: 0.5311 - val_accuracy: 0.7422 - lr: 0.0010\n",
            "Epoch 5/5\n",
            "80/80 [==============================] - 1s 14ms/step - loss: 0.4341 - accuracy: 0.8070 - val_loss: 0.5350 - val_accuracy: 0.7406 - lr: 0.0010\n"
          ]
        }
      ]
    },
    {
      "cell_type": "code",
      "source": [
        "trained_fin_32 = train(model_fin_32, train_fin_32, test_fin_32)"
      ],
      "metadata": {
        "id": "x8I3MjnnOFNd",
        "colab": {
          "base_uri": "https://localhost:8080/"
        },
        "outputId": "0a0698bc-37ee-43a3-bc3b-559b74159e7e"
      },
      "execution_count": 60,
      "outputs": [
        {
          "output_type": "stream",
          "name": "stdout",
          "text": [
            "Epoch 1/5\n",
            "119/122 [============================>.] - ETA: 0s - loss: 0.8443 - accuracy: 0.6253"
          ]
        },
        {
          "output_type": "stream",
          "name": "stderr",
          "text": [
            "WARNING:absl:Found untraced functions such as lstm_cell_4_layer_call_fn, lstm_cell_4_layer_call_and_return_conditional_losses, lstm_cell_5_layer_call_fn, lstm_cell_5_layer_call_and_return_conditional_losses while saving (showing 4 of 4). These functions will not be directly callable after loading.\n",
            "WARNING:absl:<keras.layers.recurrent.LSTMCell object at 0x7f46c5408cd0> has the same name 'LSTMCell' as a built-in Keras object. Consider renaming <class 'keras.layers.recurrent.LSTMCell'> to avoid naming conflicts when loading with `tf.keras.models.load_model`. If renaming is not possible, pass the object in the `custom_objects` parameter of the load function.\n",
            "WARNING:absl:<keras.layers.recurrent.LSTMCell object at 0x7f46c535ab90> has the same name 'LSTMCell' as a built-in Keras object. Consider renaming <class 'keras.layers.recurrent.LSTMCell'> to avoid naming conflicts when loading with `tf.keras.models.load_model`. If renaming is not possible, pass the object in the `custom_objects` parameter of the load function.\n"
          ]
        },
        {
          "output_type": "stream",
          "name": "stdout",
          "text": [
            "\b\b\b\b\b\b\b\b\b\b\b\b\b\b\b\b\b\b\b\b\b\b\b\b\b\b\b\b\b\b\b\b\b\b\b\b\b\b\b\b\b\b\b\b\b\b\b\b\b\b\b\b\b\b\b\b\b\b\b\b\b\b\b\b\b\b\b\b\b\b\b\b\b\b\b\b\b\b\b\b\b\b\b\b\r122/122 [==============================] - 23s 162ms/step - loss: 0.8401 - accuracy: 0.6275 - val_loss: 0.7055 - val_accuracy: 0.6845 - lr: 0.0010\n",
            "Epoch 2/5\n",
            "118/122 [============================>.] - ETA: 0s - loss: 0.6458 - accuracy: 0.7206"
          ]
        },
        {
          "output_type": "stream",
          "name": "stderr",
          "text": [
            "WARNING:absl:Found untraced functions such as lstm_cell_4_layer_call_fn, lstm_cell_4_layer_call_and_return_conditional_losses, lstm_cell_5_layer_call_fn, lstm_cell_5_layer_call_and_return_conditional_losses while saving (showing 4 of 4). These functions will not be directly callable after loading.\n",
            "WARNING:absl:<keras.layers.recurrent.LSTMCell object at 0x7f46c5408cd0> has the same name 'LSTMCell' as a built-in Keras object. Consider renaming <class 'keras.layers.recurrent.LSTMCell'> to avoid naming conflicts when loading with `tf.keras.models.load_model`. If renaming is not possible, pass the object in the `custom_objects` parameter of the load function.\n",
            "WARNING:absl:<keras.layers.recurrent.LSTMCell object at 0x7f46c535ab90> has the same name 'LSTMCell' as a built-in Keras object. Consider renaming <class 'keras.layers.recurrent.LSTMCell'> to avoid naming conflicts when loading with `tf.keras.models.load_model`. If renaming is not possible, pass the object in the `custom_objects` parameter of the load function.\n"
          ]
        },
        {
          "output_type": "stream",
          "name": "stdout",
          "text": [
            "\b\b\b\b\b\b\b\b\b\b\b\b\b\b\b\b\b\b\b\b\b\b\b\b\b\b\b\b\b\b\b\b\b\b\b\b\b\b\b\b\b\b\b\b\b\b\b\b\b\b\b\b\b\b\b\b\b\b\b\b\b\b\b\b\b\b\b\b\b\b\b\b\b\b\b\b\b\b\b\b\b\b\b\b\r122/122 [==============================] - 18s 151ms/step - loss: 0.6440 - accuracy: 0.7221 - val_loss: 0.6194 - val_accuracy: 0.7340 - lr: 0.0010\n",
            "Epoch 3/5\n",
            "119/122 [============================>.] - ETA: 0s - loss: 0.5854 - accuracy: 0.7466"
          ]
        },
        {
          "output_type": "stream",
          "name": "stderr",
          "text": [
            "WARNING:absl:Found untraced functions such as lstm_cell_4_layer_call_fn, lstm_cell_4_layer_call_and_return_conditional_losses, lstm_cell_5_layer_call_fn, lstm_cell_5_layer_call_and_return_conditional_losses while saving (showing 4 of 4). These functions will not be directly callable after loading.\n",
            "WARNING:absl:<keras.layers.recurrent.LSTMCell object at 0x7f46c5408cd0> has the same name 'LSTMCell' as a built-in Keras object. Consider renaming <class 'keras.layers.recurrent.LSTMCell'> to avoid naming conflicts when loading with `tf.keras.models.load_model`. If renaming is not possible, pass the object in the `custom_objects` parameter of the load function.\n",
            "WARNING:absl:<keras.layers.recurrent.LSTMCell object at 0x7f46c535ab90> has the same name 'LSTMCell' as a built-in Keras object. Consider renaming <class 'keras.layers.recurrent.LSTMCell'> to avoid naming conflicts when loading with `tf.keras.models.load_model`. If renaming is not possible, pass the object in the `custom_objects` parameter of the load function.\n"
          ]
        },
        {
          "output_type": "stream",
          "name": "stdout",
          "text": [
            "\b\b\b\b\b\b\b\b\b\b\b\b\b\b\b\b\b\b\b\b\b\b\b\b\b\b\b\b\b\b\b\b\b\b\b\b\b\b\b\b\b\b\b\b\b\b\b\b\b\b\b\b\b\b\b\b\b\b\b\b\b\b\b\b\b\b\b\b\b\b\b\b\b\b\b\b\b\b\b\b\b\b\b\b\r122/122 [==============================] - 19s 156ms/step - loss: 0.5850 - accuracy: 0.7472 - val_loss: 0.6055 - val_accuracy: 0.7320 - lr: 0.0010\n",
            "Epoch 4/5\n",
            "119/122 [============================>.] - ETA: 0s - loss: 0.5635 - accuracy: 0.7558"
          ]
        },
        {
          "output_type": "stream",
          "name": "stderr",
          "text": [
            "WARNING:absl:Found untraced functions such as lstm_cell_4_layer_call_fn, lstm_cell_4_layer_call_and_return_conditional_losses, lstm_cell_5_layer_call_fn, lstm_cell_5_layer_call_and_return_conditional_losses while saving (showing 4 of 4). These functions will not be directly callable after loading.\n",
            "WARNING:absl:<keras.layers.recurrent.LSTMCell object at 0x7f46c5408cd0> has the same name 'LSTMCell' as a built-in Keras object. Consider renaming <class 'keras.layers.recurrent.LSTMCell'> to avoid naming conflicts when loading with `tf.keras.models.load_model`. If renaming is not possible, pass the object in the `custom_objects` parameter of the load function.\n",
            "WARNING:absl:<keras.layers.recurrent.LSTMCell object at 0x7f46c535ab90> has the same name 'LSTMCell' as a built-in Keras object. Consider renaming <class 'keras.layers.recurrent.LSTMCell'> to avoid naming conflicts when loading with `tf.keras.models.load_model`. If renaming is not possible, pass the object in the `custom_objects` parameter of the load function.\n"
          ]
        },
        {
          "output_type": "stream",
          "name": "stdout",
          "text": [
            "\b\b\b\b\b\b\b\b\b\b\b\b\b\b\b\b\b\b\b\b\b\b\b\b\b\b\b\b\b\b\b\b\b\b\b\b\b\b\b\b\b\b\b\b\b\b\b\b\b\b\b\b\b\b\b\b\b\b\b\b\b\b\b\b\b\b\b\b\b\b\b\b\b\b\b\b\b\b\b\b\b\b\b\b\r122/122 [==============================] - 18s 151ms/step - loss: 0.5633 - accuracy: 0.7562 - val_loss: 0.6025 - val_accuracy: 0.7340 - lr: 0.0010\n",
            "Epoch 5/5\n",
            "122/122 [==============================] - 2s 14ms/step - loss: 0.5476 - accuracy: 0.7681 - val_loss: 0.6026 - val_accuracy: 0.7340 - lr: 0.0010\n"
          ]
        }
      ]
    },
    {
      "cell_type": "code",
      "source": [
        "trained_twt_32 = train(model_twt_32, train_tw_32, test_tw_32)"
      ],
      "metadata": {
        "id": "XPtyCngFOOA1",
        "colab": {
          "base_uri": "https://localhost:8080/"
        },
        "outputId": "d7359801-f285-439f-acb2-6105ba199660"
      },
      "execution_count": 61,
      "outputs": [
        {
          "output_type": "stream",
          "name": "stdout",
          "text": [
            "Epoch 1/5\n",
            "96/97 [============================>.] - ETA: 0s - loss: 0.6059 - accuracy: 0.7992"
          ]
        },
        {
          "output_type": "stream",
          "name": "stderr",
          "text": [
            "WARNING:absl:Found untraced functions such as lstm_cell_6_layer_call_fn, lstm_cell_6_layer_call_and_return_conditional_losses, lstm_cell_7_layer_call_fn, lstm_cell_7_layer_call_and_return_conditional_losses while saving (showing 4 of 4). These functions will not be directly callable after loading.\n",
            "WARNING:absl:<keras.layers.recurrent.LSTMCell object at 0x7f46c42599d0> has the same name 'LSTMCell' as a built-in Keras object. Consider renaming <class 'keras.layers.recurrent.LSTMCell'> to avoid naming conflicts when loading with `tf.keras.models.load_model`. If renaming is not possible, pass the object in the `custom_objects` parameter of the load function.\n",
            "WARNING:absl:<keras.layers.recurrent.LSTMCell object at 0x7f46c5387ed0> has the same name 'LSTMCell' as a built-in Keras object. Consider renaming <class 'keras.layers.recurrent.LSTMCell'> to avoid naming conflicts when loading with `tf.keras.models.load_model`. If renaming is not possible, pass the object in the `custom_objects` parameter of the load function.\n"
          ]
        },
        {
          "output_type": "stream",
          "name": "stdout",
          "text": [
            "\b\b\b\b\b\b\b\b\b\b\b\b\b\b\b\b\b\b\b\b\b\b\b\b\b\b\b\b\b\b\b\b\b\b\b\b\b\b\b\b\b\b\b\b\b\b\b\b\b\b\b\b\b\b\b\b\b\b\b\b\b\b\b\b\b\b\b\b\b\b\b\b\b\b\b\b\b\b\b\b\b\b\r97/97 [==============================] - 23s 195ms/step - loss: 0.6036 - accuracy: 0.7995 - val_loss: 0.2798 - val_accuracy: 0.8903 - lr: 0.0010\n",
            "Epoch 2/5\n",
            "95/97 [============================>.] - ETA: 0s - loss: 0.2544 - accuracy: 0.9046"
          ]
        },
        {
          "output_type": "stream",
          "name": "stderr",
          "text": [
            "WARNING:absl:Found untraced functions such as lstm_cell_6_layer_call_fn, lstm_cell_6_layer_call_and_return_conditional_losses, lstm_cell_7_layer_call_fn, lstm_cell_7_layer_call_and_return_conditional_losses while saving (showing 4 of 4). These functions will not be directly callable after loading.\n",
            "WARNING:absl:<keras.layers.recurrent.LSTMCell object at 0x7f46c42599d0> has the same name 'LSTMCell' as a built-in Keras object. Consider renaming <class 'keras.layers.recurrent.LSTMCell'> to avoid naming conflicts when loading with `tf.keras.models.load_model`. If renaming is not possible, pass the object in the `custom_objects` parameter of the load function.\n",
            "WARNING:absl:<keras.layers.recurrent.LSTMCell object at 0x7f46c5387ed0> has the same name 'LSTMCell' as a built-in Keras object. Consider renaming <class 'keras.layers.recurrent.LSTMCell'> to avoid naming conflicts when loading with `tf.keras.models.load_model`. If renaming is not possible, pass the object in the `custom_objects` parameter of the load function.\n"
          ]
        },
        {
          "output_type": "stream",
          "name": "stdout",
          "text": [
            "\b\b\b\b\b\b\b\b\b\b\b\b\b\b\b\b\b\b\b\b\b\b\b\b\b\b\b\b\b\b\b\b\b\b\b\b\b\b\b\b\b\b\b\b\b\b\b\b\b\b\b\b\b\b\b\b\b\b\b\b\b\b\b\b\b\b\b\b\b\b\b\b\b\b\b\b\b\b\b\b\b\b\r97/97 [==============================] - 18s 188ms/step - loss: 0.2547 - accuracy: 0.9038 - val_loss: 0.2724 - val_accuracy: 0.8916 - lr: 0.0010\n",
            "Epoch 3/5\n",
            "97/97 [==============================] - 1s 13ms/step - loss: 0.2215 - accuracy: 0.9161 - val_loss: 0.2801 - val_accuracy: 0.8903 - lr: 0.0010\n",
            "Epoch 4/5\n",
            "97/97 [==============================] - 1s 13ms/step - loss: 0.2007 - accuracy: 0.9261 - val_loss: 0.2886 - val_accuracy: 0.8942 - lr: 0.0010\n",
            "Epoch 5/5\n",
            "97/97 [==============================] - 1s 13ms/step - loss: 0.1844 - accuracy: 0.9335 - val_loss: 0.2987 - val_accuracy: 0.8929 - lr: 0.0010\n"
          ]
        }
      ]
    },
    {
      "cell_type": "markdown",
      "source": [
        "## Evaluate models on best only checkpoints"
      ],
      "metadata": {
        "id": "KgwaYSvl2SrR"
      }
    },
    {
      "cell_type": "code",
      "source": [
        "best_140 = tf.keras.models.load_model(\"/content/model_checkpoints/140_32\", compile=True)\n",
        "best_fin = tf.keras.models.load_model(\"/content/model_checkpoints/fin_32\", compile=True)\n",
        "best_twt = tf.keras.models.load_model(\"/content/model_checkpoints/twt_32\", compile=True)"
      ],
      "metadata": {
        "id": "13Q_JLILnljE"
      },
      "execution_count": 62,
      "outputs": []
    },
    {
      "cell_type": "code",
      "source": [
        "evaluated_140 = best_140.evaluate(test_140_32)\n",
        "evaluated_fin = best_fin.evaluate(test_fin_32)\n",
        "evaluated_twt = best_twt.evaluate(test_tw_32)"
      ],
      "metadata": {
        "id": "8KUZQ8u01OcA",
        "colab": {
          "base_uri": "https://localhost:8080/"
        },
        "outputId": "0deb4d3c-dd83-4692-abc2-3db03fbbbb5a"
      },
      "execution_count": 63,
      "outputs": [
        {
          "output_type": "stream",
          "name": "stdout",
          "text": [
            "20/20 [==============================] - 1s 9ms/step - loss: 0.5210 - accuracy: 0.7453\n",
            "31/31 [==============================] - 1s 10ms/step - loss: 0.6025 - accuracy: 0.7340\n",
            "25/25 [==============================] - 1s 9ms/step - loss: 0.2724 - accuracy: 0.8916\n"
          ]
        }
      ]
    },
    {
      "cell_type": "code",
      "source": [
        "compare_df = pd.DataFrame({\n",
        "    best_140.name: evaluated_140,\n",
        "    best_fin.name: evaluated_fin,\n",
        "    best_twt.name: evaluated_twt,\n",
        "}, index=[\"loss\",\"accuracy\"]).T \n",
        "\n",
        "compare_df"
      ],
      "metadata": {
        "id": "AU_ACFtf20nl",
        "colab": {
          "base_uri": "https://localhost:8080/",
          "height": 143
        },
        "outputId": "86bf20df-107e-4ff1-fd5b-49222c5e4215"
      },
      "execution_count": 64,
      "outputs": [
        {
          "output_type": "execute_result",
          "data": {
            "text/plain": [
              "            loss  accuracy\n",
              "140_32  0.521039  0.745313\n",
              "fin_32  0.602507  0.734021\n",
              "twt_32  0.272417  0.891613"
            ],
            "text/html": [
              "\n",
              "  <div id=\"df-c6f3c613-ddf5-416a-a571-32e9c9a2dd58\">\n",
              "    <div class=\"colab-df-container\">\n",
              "      <div>\n",
              "<style scoped>\n",
              "    .dataframe tbody tr th:only-of-type {\n",
              "        vertical-align: middle;\n",
              "    }\n",
              "\n",
              "    .dataframe tbody tr th {\n",
              "        vertical-align: top;\n",
              "    }\n",
              "\n",
              "    .dataframe thead th {\n",
              "        text-align: right;\n",
              "    }\n",
              "</style>\n",
              "<table border=\"1\" class=\"dataframe\">\n",
              "  <thead>\n",
              "    <tr style=\"text-align: right;\">\n",
              "      <th></th>\n",
              "      <th>loss</th>\n",
              "      <th>accuracy</th>\n",
              "    </tr>\n",
              "  </thead>\n",
              "  <tbody>\n",
              "    <tr>\n",
              "      <th>140_32</th>\n",
              "      <td>0.521039</td>\n",
              "      <td>0.745313</td>\n",
              "    </tr>\n",
              "    <tr>\n",
              "      <th>fin_32</th>\n",
              "      <td>0.602507</td>\n",
              "      <td>0.734021</td>\n",
              "    </tr>\n",
              "    <tr>\n",
              "      <th>twt_32</th>\n",
              "      <td>0.272417</td>\n",
              "      <td>0.891613</td>\n",
              "    </tr>\n",
              "  </tbody>\n",
              "</table>\n",
              "</div>\n",
              "      <button class=\"colab-df-convert\" onclick=\"convertToInteractive('df-c6f3c613-ddf5-416a-a571-32e9c9a2dd58')\"\n",
              "              title=\"Convert this dataframe to an interactive table.\"\n",
              "              style=\"display:none;\">\n",
              "        \n",
              "  <svg xmlns=\"http://www.w3.org/2000/svg\" height=\"24px\"viewBox=\"0 0 24 24\"\n",
              "       width=\"24px\">\n",
              "    <path d=\"M0 0h24v24H0V0z\" fill=\"none\"/>\n",
              "    <path d=\"M18.56 5.44l.94 2.06.94-2.06 2.06-.94-2.06-.94-.94-2.06-.94 2.06-2.06.94zm-11 1L8.5 8.5l.94-2.06 2.06-.94-2.06-.94L8.5 2.5l-.94 2.06-2.06.94zm10 10l.94 2.06.94-2.06 2.06-.94-2.06-.94-.94-2.06-.94 2.06-2.06.94z\"/><path d=\"M17.41 7.96l-1.37-1.37c-.4-.4-.92-.59-1.43-.59-.52 0-1.04.2-1.43.59L10.3 9.45l-7.72 7.72c-.78.78-.78 2.05 0 2.83L4 21.41c.39.39.9.59 1.41.59.51 0 1.02-.2 1.41-.59l7.78-7.78 2.81-2.81c.8-.78.8-2.07 0-2.86zM5.41 20L4 18.59l7.72-7.72 1.47 1.35L5.41 20z\"/>\n",
              "  </svg>\n",
              "      </button>\n",
              "      \n",
              "  <style>\n",
              "    .colab-df-container {\n",
              "      display:flex;\n",
              "      flex-wrap:wrap;\n",
              "      gap: 12px;\n",
              "    }\n",
              "\n",
              "    .colab-df-convert {\n",
              "      background-color: #E8F0FE;\n",
              "      border: none;\n",
              "      border-radius: 50%;\n",
              "      cursor: pointer;\n",
              "      display: none;\n",
              "      fill: #1967D2;\n",
              "      height: 32px;\n",
              "      padding: 0 0 0 0;\n",
              "      width: 32px;\n",
              "    }\n",
              "\n",
              "    .colab-df-convert:hover {\n",
              "      background-color: #E2EBFA;\n",
              "      box-shadow: 0px 1px 2px rgba(60, 64, 67, 0.3), 0px 1px 3px 1px rgba(60, 64, 67, 0.15);\n",
              "      fill: #174EA6;\n",
              "    }\n",
              "\n",
              "    [theme=dark] .colab-df-convert {\n",
              "      background-color: #3B4455;\n",
              "      fill: #D2E3FC;\n",
              "    }\n",
              "\n",
              "    [theme=dark] .colab-df-convert:hover {\n",
              "      background-color: #434B5C;\n",
              "      box-shadow: 0px 1px 3px 1px rgba(0, 0, 0, 0.15);\n",
              "      filter: drop-shadow(0px 1px 2px rgba(0, 0, 0, 0.3));\n",
              "      fill: #FFFFFF;\n",
              "    }\n",
              "  </style>\n",
              "\n",
              "      <script>\n",
              "        const buttonEl =\n",
              "          document.querySelector('#df-c6f3c613-ddf5-416a-a571-32e9c9a2dd58 button.colab-df-convert');\n",
              "        buttonEl.style.display =\n",
              "          google.colab.kernel.accessAllowed ? 'block' : 'none';\n",
              "\n",
              "        async function convertToInteractive(key) {\n",
              "          const element = document.querySelector('#df-c6f3c613-ddf5-416a-a571-32e9c9a2dd58');\n",
              "          const dataTable =\n",
              "            await google.colab.kernel.invokeFunction('convertToInteractive',\n",
              "                                                     [key], {});\n",
              "          if (!dataTable) return;\n",
              "\n",
              "          const docLinkHtml = 'Like what you see? Visit the ' +\n",
              "            '<a target=\"_blank\" href=https://colab.research.google.com/notebooks/data_table.ipynb>data table notebook</a>'\n",
              "            + ' to learn more about interactive tables.';\n",
              "          element.innerHTML = '';\n",
              "          dataTable['output_type'] = 'display_data';\n",
              "          await google.colab.output.renderOutput(dataTable, element);\n",
              "          const docLink = document.createElement('div');\n",
              "          docLink.innerHTML = docLinkHtml;\n",
              "          element.appendChild(docLink);\n",
              "        }\n",
              "      </script>\n",
              "    </div>\n",
              "  </div>\n",
              "  "
            ]
          },
          "metadata": {},
          "execution_count": 64
        }
      ]
    },
    {
      "cell_type": "code",
      "source": [
        "compare_df.plot(kind=\"bar\") "
      ],
      "metadata": {
        "id": "lnJNsXCh25PX",
        "colab": {
          "base_uri": "https://localhost:8080/",
          "height": 309
        },
        "outputId": "ee23b508-0bc9-4589-d021-350dd2d4fff6"
      },
      "execution_count": 65,
      "outputs": [
        {
          "output_type": "execute_result",
          "data": {
            "text/plain": [
              "<matplotlib.axes._subplots.AxesSubplot at 0x7f463f73df90>"
            ]
          },
          "metadata": {},
          "execution_count": 65
        },
        {
          "output_type": "display_data",
          "data": {
            "text/plain": [
              "<Figure size 432x288 with 1 Axes>"
            ],
            "image/png": "[encoded data removed]"
          },
          "metadata": {
            "needs_background": "light"
          }
        }
      ]
    },
    {
      "cell_type": "code",
      "source": [
        "from sklearn.metrics import accuracy_score, recall_score, precision_score, f1_score\n",
        "\n",
        "def score(y_true, y_preds):\n",
        "    \"\"\"\n",
        "    Calculating Accuracy, Recall, Precision and F1 Score.\n",
        "    \"\"\"\n",
        "    acc = accuracy_score(y_true, y_preds)\n",
        "    recall = recall_score(y_true, y_preds, average=\"weighted\")\n",
        "    precision = precision_score(y_true, y_preds, average=\"weighted\")\n",
        "    f1score = f1_score(y_true, y_preds, average=\"weighted\")\n",
        "\n",
        "    return {\"acc\":acc,\n",
        "            \"recall\":recall,\n",
        "            \"precision\":precision,\n",
        "            \"f1score\":f1score}"
      ],
      "metadata": {
        "id": "XcXy5Hw6yZDC"
      },
      "execution_count": 66,
      "outputs": []
    },
    {
      "cell_type": "code",
      "source": [
        "# pick out labels and features from every dataset\n",
        "\n",
        "y_true_140 = np.asarray(list(test_140_32.unbatch().map(lambda x,y:y)))\n",
        "y_true_fin = np.asarray(list(test_fin_32.unbatch().map(lambda x,y:y)))\n",
        "y_true_tw = np.asarray(list(test_tw_32.unbatch().map(lambda x,y:y)))\n"
      ],
      "metadata": {
        "id": "bpVzEMoQVvSi"
      },
      "execution_count": 67,
      "outputs": []
    },
    {
      "cell_type": "code",
      "source": [
        "# Predictions\n",
        "\n",
        "y_preds_140 = tf.math.round(best_140.predict(test_140_32))\n",
        "y_preds_fin = (best_fin.predict(test_fin_32)).argmax(axis=1)\n",
        "y_preds_tw =(best_twt.predict(test_tw_32)).argmax(axis=1)"
      ],
      "metadata": {
        "id": "VQxzZLG-WA2E"
      },
      "execution_count": 68,
      "outputs": []
    },
    {
      "cell_type": "code",
      "source": [
        "#Score model\n",
        "score_140 = score(y_true_140, y_preds_140)\n",
        "score_fin = score(y_true_fin, y_preds_fin)\n",
        "score_tw = score(y_true_tw, y_preds_tw)\n",
        "\n"
      ],
      "metadata": {
        "id": "zzoJxcgNXQdR"
      },
      "execution_count": 69,
      "outputs": []
    },
    {
      "cell_type": "code",
      "source": [
        "score_df = pd.DataFrame([score_140,score_fin,score_tw], index=[best_140.name, best_fin.name, best_twt.name])\n",
        "score_df"
      ],
      "metadata": {
        "colab": {
          "base_uri": "https://localhost:8080/",
          "height": 143
        },
        "id": "snf-lXNsXdKs",
        "outputId": "f6be1728-c460-4265-d16a-2c845d3a5013"
      },
      "execution_count": 70,
      "outputs": [
        {
          "output_type": "execute_result",
          "data": {
            "text/plain": [
              "             acc    recall  precision   f1score\n",
              "140_32  0.745313  0.745313   0.745589  0.745143\n",
              "fin_32  0.734021  0.734021   0.724400  0.723463\n",
              "twt_32  0.891613  0.891613   0.891599  0.891554"
            ],
            "text/html": [
              "\n",
              "  <div id=\"df-f5b13061-34e7-4472-9577-a05df3ead889\">\n",
              "    <div class=\"colab-df-container\">\n",
              "      <div>\n",
              "<style scoped>\n",
              "    .dataframe tbody tr th:only-of-type {\n",
              "        vertical-align: middle;\n",
              "    }\n",
              "\n",
              "    .dataframe tbody tr th {\n",
              "        vertical-align: top;\n",
              "    }\n",
              "\n",
              "    .dataframe thead th {\n",
              "        text-align: right;\n",
              "    }\n",
              "</style>\n",
              "<table border=\"1\" class=\"dataframe\">\n",
              "  <thead>\n",
              "    <tr style=\"text-align: right;\">\n",
              "      <th></th>\n",
              "      <th>acc</th>\n",
              "      <th>recall</th>\n",
              "      <th>precision</th>\n",
              "      <th>f1score</th>\n",
              "    </tr>\n",
              "  </thead>\n",
              "  <tbody>\n",
              "    <tr>\n",
              "      <th>140_32</th>\n",
              "      <td>0.745313</td>\n",
              "      <td>0.745313</td>\n",
              "      <td>0.745589</td>\n",
              "      <td>0.745143</td>\n",
              "    </tr>\n",
              "    <tr>\n",
              "      <th>fin_32</th>\n",
              "      <td>0.734021</td>\n",
              "      <td>0.734021</td>\n",
              "      <td>0.724400</td>\n",
              "      <td>0.723463</td>\n",
              "    </tr>\n",
              "    <tr>\n",
              "      <th>twt_32</th>\n",
              "      <td>0.891613</td>\n",
              "      <td>0.891613</td>\n",
              "      <td>0.891599</td>\n",
              "      <td>0.891554</td>\n",
              "    </tr>\n",
              "  </tbody>\n",
              "</table>\n",
              "</div>\n",
              "      <button class=\"colab-df-convert\" onclick=\"convertToInteractive('df-f5b13061-34e7-4472-9577-a05df3ead889')\"\n",
              "              title=\"Convert this dataframe to an interactive table.\"\n",
              "              style=\"display:none;\">\n",
              "        \n",
              "  <svg xmlns=\"http://www.w3.org/2000/svg\" height=\"24px\"viewBox=\"0 0 24 24\"\n",
              "       width=\"24px\">\n",
              "    <path d=\"M0 0h24v24H0V0z\" fill=\"none\"/>\n",
              "    <path d=\"M18.56 5.44l.94 2.06.94-2.06 2.06-.94-2.06-.94-.94-2.06-.94 2.06-2.06.94zm-11 1L8.5 8.5l.94-2.06 2.06-.94-2.06-.94L8.5 2.5l-.94 2.06-2.06.94zm10 10l.94 2.06.94-2.06 2.06-.94-2.06-.94-.94-2.06-.94 2.06-2.06.94z\"/><path d=\"M17.41 7.96l-1.37-1.37c-.4-.4-.92-.59-1.43-.59-.52 0-1.04.2-1.43.59L10.3 9.45l-7.72 7.72c-.78.78-.78 2.05 0 2.83L4 21.41c.39.39.9.59 1.41.59.51 0 1.02-.2 1.41-.59l7.78-7.78 2.81-2.81c.8-.78.8-2.07 0-2.86zM5.41 20L4 18.59l7.72-7.72 1.47 1.35L5.41 20z\"/>\n",
              "  </svg>\n",
              "      </button>\n",
              "      \n",
              "  <style>\n",
              "    .colab-df-container {\n",
              "      display:flex;\n",
              "      flex-wrap:wrap;\n",
              "      gap: 12px;\n",
              "    }\n",
              "\n",
              "    .colab-df-convert {\n",
              "      background-color: #E8F0FE;\n",
              "      border: none;\n",
              "      border-radius: 50%;\n",
              "      cursor: pointer;\n",
              "      display: none;\n",
              "      fill: #1967D2;\n",
              "      height: 32px;\n",
              "      padding: 0 0 0 0;\n",
              "      width: 32px;\n",
              "    }\n",
              "\n",
              "    .colab-df-convert:hover {\n",
              "      background-color: #E2EBFA;\n",
              "      box-shadow: 0px 1px 2px rgba(60, 64, 67, 0.3), 0px 1px 3px 1px rgba(60, 64, 67, 0.15);\n",
              "      fill: #174EA6;\n",
              "    }\n",
              "\n",
              "    [theme=dark] .colab-df-convert {\n",
              "      background-color: #3B4455;\n",
              "      fill: #D2E3FC;\n",
              "    }\n",
              "\n",
              "    [theme=dark] .colab-df-convert:hover {\n",
              "      background-color: #434B5C;\n",
              "      box-shadow: 0px 1px 3px 1px rgba(0, 0, 0, 0.15);\n",
              "      filter: drop-shadow(0px 1px 2px rgba(0, 0, 0, 0.3));\n",
              "      fill: #FFFFFF;\n",
              "    }\n",
              "  </style>\n",
              "\n",
              "      <script>\n",
              "        const buttonEl =\n",
              "          document.querySelector('#df-f5b13061-34e7-4472-9577-a05df3ead889 button.colab-df-convert');\n",
              "        buttonEl.style.display =\n",
              "          google.colab.kernel.accessAllowed ? 'block' : 'none';\n",
              "\n",
              "        async function convertToInteractive(key) {\n",
              "          const element = document.querySelector('#df-f5b13061-34e7-4472-9577-a05df3ead889');\n",
              "          const dataTable =\n",
              "            await google.colab.kernel.invokeFunction('convertToInteractive',\n",
              "                                                     [key], {});\n",
              "          if (!dataTable) return;\n",
              "\n",
              "          const docLinkHtml = 'Like what you see? Visit the ' +\n",
              "            '<a target=\"_blank\" href=https://colab.research.google.com/notebooks/data_table.ipynb>data table notebook</a>'\n",
              "            + ' to learn more about interactive tables.';\n",
              "          element.innerHTML = '';\n",
              "          dataTable['output_type'] = 'display_data';\n",
              "          await google.colab.output.renderOutput(dataTable, element);\n",
              "          const docLink = document.createElement('div');\n",
              "          docLink.innerHTML = docLinkHtml;\n",
              "          element.appendChild(docLink);\n",
              "        }\n",
              "      </script>\n",
              "    </div>\n",
              "  </div>\n",
              "  "
            ]
          },
          "metadata": {},
          "execution_count": 70
        }
      ]
    },
    {
      "cell_type": "markdown",
      "source": [
        "### Comparison of the models\n",
        "\n",
        "It appears that our models fits best to general twitter scraped data. But let's check how each of the models behave on a real data from twitter."
      ],
      "metadata": {
        "id": "HzS7wGzX4nMC"
      }
    },
    {
      "cell_type": "markdown",
      "source": [
        "#4. Connect to the twitter and validate it on a real data.\n",
        "\n",
        "First, we'll connect to the twitter API v2 with tweepy library.\n",
        "Next, we'll build a function to download recent tweets from the given topic/keywords. \n",
        "\n",
        "Last step is to make inferences on those real data and print out them, along sentences."
      ],
      "metadata": {
        "id": "cvfmB3k5Beww"
      }
    },
    {
      "cell_type": "code",
      "source": [
        "!pip install -U tweepy\n",
        "\n",
        "import tweepy"
      ],
      "metadata": {
        "id": "LZ7Fn-RHFt42",
        "colab": {
          "base_uri": "https://localhost:8080/",
          "height": 521
        },
        "outputId": "a6956629-1e42-4afb-ea04-fa72586481a7"
      },
      "execution_count": 71,
      "outputs": [
        {
          "output_type": "stream",
          "name": "stdout",
          "text": [
            "Looking in indexes: https://pypi.org/simple, https://us-python.pkg.dev/colab-wheels/public/simple/\n",
            "Requirement already satisfied: tweepy in /usr/local/lib/python3.7/dist-packages (3.10.0)\n",
            "Collecting tweepy\n",
            "  Downloading tweepy-4.10.1-py3-none-any.whl (94 kB)\n",
            "\u001b[K     |████████████████████████████████| 94 kB 2.6 MB/s \n",
            "\u001b[?25hRequirement already satisfied: oauthlib<4,>=3.2.0 in /usr/local/lib/python3.7/dist-packages (from tweepy) (3.2.1)\n",
            "Requirement already satisfied: requests-oauthlib<2,>=1.2.0 in /usr/local/lib/python3.7/dist-packages (from tweepy) (1.3.1)\n",
            "Collecting requests<3,>=2.27.0\n",
            "  Downloading requests-2.28.1-py3-none-any.whl (62 kB)\n",
            "\u001b[K     |████████████████████████████████| 62 kB 1.7 MB/s \n",
            "\u001b[?25hRequirement already satisfied: charset-normalizer<3,>=2 in /usr/local/lib/python3.7/dist-packages (from requests<3,>=2.27.0->tweepy) (2.1.1)\n",
            "Requirement already satisfied: certifi>=2017.4.17 in /usr/local/lib/python3.7/dist-packages (from requests<3,>=2.27.0->tweepy) (2022.9.24)\n",
            "Requirement already satisfied: urllib3<1.27,>=1.21.1 in /usr/local/lib/python3.7/dist-packages (from requests<3,>=2.27.0->tweepy) (1.24.3)\n",
            "Requirement already satisfied: idna<4,>=2.5 in /usr/local/lib/python3.7/dist-packages (from requests<3,>=2.27.0->tweepy) (2.10)\n",
            "Installing collected packages: requests, tweepy\n",
            "  Attempting uninstall: requests\n",
            "    Found existing installation: requests 2.23.0\n",
            "    Uninstalling requests-2.23.0:\n",
            "      Successfully uninstalled requests-2.23.0\n",
            "  Attempting uninstall: tweepy\n",
            "    Found existing installation: tweepy 3.10.0\n",
            "    Uninstalling tweepy-3.10.0:\n",
            "      Successfully uninstalled tweepy-3.10.0\n",
            "Successfully installed requests-2.28.1 tweepy-4.10.1\n"
          ]
        },
        {
          "output_type": "display_data",
          "data": {
            "application/vnd.colab-display-data+json": {
              "pip_warning": {
                "packages": [
                  "requests"
                ]
              }
            }
          },
          "metadata": {}
        }
      ]
    },
    {
      "cell_type": "code",
      "source": [
        "!pip install python-dotenv\n",
        "import dotenv"
      ],
      "metadata": {
        "colab": {
          "base_uri": "https://localhost:8080/"
        },
        "id": "Ki4E7SjMMcJh",
        "outputId": "ca64fed1-bcdd-490b-c8d1-c413d2dcd2fa"
      },
      "execution_count": 72,
      "outputs": [
        {
          "output_type": "stream",
          "name": "stdout",
          "text": [
            "Looking in indexes: https://pypi.org/simple, https://us-python.pkg.dev/colab-wheels/public/simple/\n",
            "Collecting python-dotenv\n",
            "  Downloading python_dotenv-0.21.0-py3-none-any.whl (18 kB)\n",
            "Installing collected packages: python-dotenv\n",
            "Successfully installed python-dotenv-0.21.0\n"
          ]
        }
      ]
    },
    {
      "cell_type": "code",
      "source": [
        "dotenv.load_dotenv('/content/gdrive/MyDrive/CREDENTIALS/t.env') # upload .env file with bearer token from twitter developers account"
      ],
      "metadata": {
        "colab": {
          "base_uri": "https://localhost:8080/"
        },
        "id": "g8h0VHsiLPY2",
        "outputId": "8c9361e3-fad6-4c25-e401-36ffc8810f16"
      },
      "execution_count": 73,
      "outputs": [
        {
          "output_type": "execute_result",
          "data": {
            "text/plain": [
              "True"
            ]
          },
          "metadata": {},
          "execution_count": 73
        }
      ]
    },
    {
      "cell_type": "code",
      "source": [
        "client = tweepy.Client(bearer_token=os.environ[\"BEARER_TOKEN\"]) # initialize the class "
      ],
      "metadata": {
        "id": "Q-orLLDdLCRr"
      },
      "execution_count": 74,
      "outputs": []
    },
    {
      "cell_type": "code",
      "source": [
        "\n",
        "def tweets_to_dataframe(topic: str, max_results=10):\n",
        "    \"\"\"\n",
        "    Calls twitter api, and split response into a dataframe for prediction.\n",
        "\n",
        "    \"\"\"\n",
        "\n",
        "    response = client.search_recent_tweets(topic, max_results=max_results)\n",
        "    tweets = response.data\n",
        "    ids = [tweet.id for tweet in tweets]\n",
        "    tweet = [tweet.text for tweet in tweets]\n",
        "\n",
        "    return pd.DataFrame([ids, tweet], index=[\"index\",\"tweet\"]).T"
      ],
      "metadata": {
        "id": "b8HOz97QeHfR"
      },
      "execution_count": 75,
      "outputs": []
    },
    {
      "cell_type": "code",
      "source": [
        "tweets_to_dataframe(\"Elon Musk lang:en\", 10).head(3) # test if this works, lang:en is a query from twitter api documentation for filtering specific language"
      ],
      "metadata": {
        "colab": {
          "base_uri": "https://localhost:8080/",
          "height": 143
        },
        "id": "G4hFxhAdfz4z",
        "outputId": "717fcfcd-ef45-4ff8-b9b9-3acab63b0a90"
      },
      "execution_count": 76,
      "outputs": [
        {
          "output_type": "execute_result",
          "data": {
            "text/plain": [
              "                 index                                              tweet\n",
              "0  1579416372622557185  RT @sillyhead: my cantankerous jewish opinion:...\n",
              "1  1579416369615245312  RT @w_terrence: Zelenskyy is still mad at Elon...\n",
              "2  1579416357208461312  RT @VABVOX: Am I the only person on Twitter wh..."
            ],
            "text/html": [
              "\n",
              "  <div id=\"df-4681755d-f100-46a7-aa51-1849c9da2dc3\">\n",
              "    <div class=\"colab-df-container\">\n",
              "      <div>\n",
              "<style scoped>\n",
              "    .dataframe tbody tr th:only-of-type {\n",
              "        vertical-align: middle;\n",
              "    }\n",
              "\n",
              "    .dataframe tbody tr th {\n",
              "        vertical-align: top;\n",
              "    }\n",
              "\n",
              "    .dataframe thead th {\n",
              "        text-align: right;\n",
              "    }\n",
              "</style>\n",
              "<table border=\"1\" class=\"dataframe\">\n",
              "  <thead>\n",
              "    <tr style=\"text-align: right;\">\n",
              "      <th></th>\n",
              "      <th>index</th>\n",
              "      <th>tweet</th>\n",
              "    </tr>\n",
              "  </thead>\n",
              "  <tbody>\n",
              "    <tr>\n",
              "      <th>0</th>\n",
              "      <td>1579416372622557185</td>\n",
              "      <td>RT @sillyhead: my cantankerous jewish opinion:...</td>\n",
              "    </tr>\n",
              "    <tr>\n",
              "      <th>1</th>\n",
              "      <td>1579416369615245312</td>\n",
              "      <td>RT @w_terrence: Zelenskyy is still mad at Elon...</td>\n",
              "    </tr>\n",
              "    <tr>\n",
              "      <th>2</th>\n",
              "      <td>1579416357208461312</td>\n",
              "      <td>RT @VABVOX: Am I the only person on Twitter wh...</td>\n",
              "    </tr>\n",
              "  </tbody>\n",
              "</table>\n",
              "</div>\n",
              "      <button class=\"colab-df-convert\" onclick=\"convertToInteractive('df-4681755d-f100-46a7-aa51-1849c9da2dc3')\"\n",
              "              title=\"Convert this dataframe to an interactive table.\"\n",
              "              style=\"display:none;\">\n",
              "        \n",
              "  <svg xmlns=\"http://www.w3.org/2000/svg\" height=\"24px\"viewBox=\"0 0 24 24\"\n",
              "       width=\"24px\">\n",
              "    <path d=\"M0 0h24v24H0V0z\" fill=\"none\"/>\n",
              "    <path d=\"M18.56 5.44l.94 2.06.94-2.06 2.06-.94-2.06-.94-.94-2.06-.94 2.06-2.06.94zm-11 1L8.5 8.5l.94-2.06 2.06-.94-2.06-.94L8.5 2.5l-.94 2.06-2.06.94zm10 10l.94 2.06.94-2.06 2.06-.94-2.06-.94-.94-2.06-.94 2.06-2.06.94z\"/><path d=\"M17.41 7.96l-1.37-1.37c-.4-.4-.92-.59-1.43-.59-.52 0-1.04.2-1.43.59L10.3 9.45l-7.72 7.72c-.78.78-.78 2.05 0 2.83L4 21.41c.39.39.9.59 1.41.59.51 0 1.02-.2 1.41-.59l7.78-7.78 2.81-2.81c.8-.78.8-2.07 0-2.86zM5.41 20L4 18.59l7.72-7.72 1.47 1.35L5.41 20z\"/>\n",
              "  </svg>\n",
              "      </button>\n",
              "      \n",
              "  <style>\n",
              "    .colab-df-container {\n",
              "      display:flex;\n",
              "      flex-wrap:wrap;\n",
              "      gap: 12px;\n",
              "    }\n",
              "\n",
              "    .colab-df-convert {\n",
              "      background-color: #E8F0FE;\n",
              "      border: none;\n",
              "      border-radius: 50%;\n",
              "      cursor: pointer;\n",
              "      display: none;\n",
              "      fill: #1967D2;\n",
              "      height: 32px;\n",
              "      padding: 0 0 0 0;\n",
              "      width: 32px;\n",
              "    }\n",
              "\n",
              "    .colab-df-convert:hover {\n",
              "      background-color: #E2EBFA;\n",
              "      box-shadow: 0px 1px 2px rgba(60, 64, 67, 0.3), 0px 1px 3px 1px rgba(60, 64, 67, 0.15);\n",
              "      fill: #174EA6;\n",
              "    }\n",
              "\n",
              "    [theme=dark] .colab-df-convert {\n",
              "      background-color: #3B4455;\n",
              "      fill: #D2E3FC;\n",
              "    }\n",
              "\n",
              "    [theme=dark] .colab-df-convert:hover {\n",
              "      background-color: #434B5C;\n",
              "      box-shadow: 0px 1px 3px 1px rgba(0, 0, 0, 0.15);\n",
              "      filter: drop-shadow(0px 1px 2px rgba(0, 0, 0, 0.3));\n",
              "      fill: #FFFFFF;\n",
              "    }\n",
              "  </style>\n",
              "\n",
              "      <script>\n",
              "        const buttonEl =\n",
              "          document.querySelector('#df-4681755d-f100-46a7-aa51-1849c9da2dc3 button.colab-df-convert');\n",
              "        buttonEl.style.display =\n",
              "          google.colab.kernel.accessAllowed ? 'block' : 'none';\n",
              "\n",
              "        async function convertToInteractive(key) {\n",
              "          const element = document.querySelector('#df-4681755d-f100-46a7-aa51-1849c9da2dc3');\n",
              "          const dataTable =\n",
              "            await google.colab.kernel.invokeFunction('convertToInteractive',\n",
              "                                                     [key], {});\n",
              "          if (!dataTable) return;\n",
              "\n",
              "          const docLinkHtml = 'Like what you see? Visit the ' +\n",
              "            '<a target=\"_blank\" href=https://colab.research.google.com/notebooks/data_table.ipynb>data table notebook</a>'\n",
              "            + ' to learn more about interactive tables.';\n",
              "          element.innerHTML = '';\n",
              "          dataTable['output_type'] = 'display_data';\n",
              "          await google.colab.output.renderOutput(dataTable, element);\n",
              "          const docLink = document.createElement('div');\n",
              "          docLink.innerHTML = docLinkHtml;\n",
              "          element.appendChild(docLink);\n",
              "        }\n",
              "      </script>\n",
              "    </div>\n",
              "  </div>\n",
              "  "
            ]
          },
          "metadata": {},
          "execution_count": 76
        }
      ]
    },
    {
      "cell_type": "code",
      "source": [
        "# get databases for predictions. Now we have to labels all those tweets, to compare how well our model predicted.\n",
        "\n",
        "elon_tweets = tweets_to_dataframe(\"Elon Musk lang:en\", 100)\n",
        "elon_tweets.tweet.to_numpy()[:10] # print out tweets"
      ],
      "metadata": {
        "colab": {
          "base_uri": "https://localhost:8080/"
        },
        "id": "ubtyr5Kkf5GT",
        "outputId": "c716e441-18ac-4093-cd00-afaddae8dfe1"
      },
      "execution_count": 77,
      "outputs": [
        {
          "output_type": "execute_result",
          "data": {
            "text/plain": [
              "array(['RT @sillyhead: my cantankerous jewish opinion: elon musk would rather more people blame secret jewish power (does not exist) rather than un…',\n",
              "       'RT @w_terrence: Zelenskyy is still mad at Elon Musk for suggesting Peace so lives can be saved and to prevent WW3. Zelenskyy don’t want pea…',\n",
              "       \"RT @VABVOX: Am I the only person on Twitter who doesn't follow Elon Musk?\",\n",
              "       'RT @SaeedDiCaprio: elon musk should stop worrying about space x and start worrying about the eXtra SPACE between his forehead and hairline',\n",
              "       'RT @MattWallace888: Elon Musk will be the first trillionaire',\n",
              "       'RT @RhonddaBryant: Elon Musk is wrong on Ukraine and Taiwan. The arrogance of the supremely wealthy who would barter with other people’s fr…',\n",
              "       'RT @SaeedDiCaprio: elon musk wanted this tweet gone soooo bad https://t.co/31rRgKk2qP',\n",
              "       \"RT @realDonJTru: Thank you Elon Musk, I'm Back!!\",\n",
              "       \"RT @realDonJTru: Thank you Elon Musk, I'm Back!!\",\n",
              "       '@onefussyone Yes the russia talk is all related to his China business , China have leverage over Elon Musk , they can close his business down overnight'],\n",
              "      dtype=object)"
            ]
          },
          "metadata": {},
          "execution_count": 77
        }
      ]
    },
    {
      "cell_type": "code",
      "source": [
        "bitcoin_tweets = tweets_to_dataframe(\"Bitcoin lang:en\", 100)\n",
        "\n",
        "bitcoin_tweets.tweet.to_numpy()[:10]"
      ],
      "metadata": {
        "colab": {
          "base_uri": "https://localhost:8080/"
        },
        "id": "rh9rZG1nmLHl",
        "outputId": "d6e8fb80-df7b-4b4c-a85f-14fef6d04dc4"
      },
      "execution_count": 78,
      "outputs": [
        {
          "output_type": "execute_result",
          "data": {
            "text/plain": [
              "array(['RT @icsmen: Anyone else using the same background wallpaper ? 😁\\n\\n@binance @Indoex_LTD @MetaMask @TrustWallet \\n\\n@Meta\\n\\n$MGLD ⚡\\n\\n#btc #bitcoi…',\n",
              "       'RT @BitcoinFear: Bitcoin Fear and Greed Index is 22 — Extreme Fear\\nCurrent price: $19,413 https://t.co/9SB3dyTz5K',\n",
              "       '@bitrabbit_btc @fmdroid @muneeb @markymark 💎The next Moonshot right here! 💎\\nhttps://t.co/1U1EewC70C\\n\\n🌐 https://t.co/CaPyxvgs3Z\\n@RoboSquidToken\\n\\n #RoboSquidToken \\n#Binance #BNB #BTC\\n#Bitcoin #ETH #SHIB #dogecoin #doge #ElonMusk #Crypto #altcoin #SquidGame #SquidGrowArmy #SquidGrow #BabyDogeSwap #Babydoge',\n",
              "       'RT @RoboSquidToken: 🐙🔥 #PRESALE &amp; #LAUNCH TODAY 4PM UTC! 🚀🐙\\n\\n#RoboSquidToken \\n#BSC #BNB #BinanceSmartChain #BTC #Bitcoin #altcoin #ETH #XRP…',\n",
              "       'RT @DegenPunters: Are you Degen enough to be a Punter??🎰\\n@Stake @rollbitcom @Roobet @Duelbits \\n.\\n.\\n\\n#nft #crypto #nftcommunity #nftcollecto…',\n",
              "       \"@StandardKenya For all those who are new to this working from home Bitcoin trading options \\n\\nHere's a little tip:\\n\\nGet a trusted Bitcoin expert and stick to him\\n\\n @lawrenceparker0 \\n\\nInvest and play at similar times each day.\\nBecause :\\nIn times of chaos, your investment is your anchor to success\",\n",
              "       'RT @montymetzger: 🔥 $1000 GIVEAWAY!!! 🔥\\n\\nIn order to celebrate @LCX revamp, I’ll be giving away $1000 in $LCX $ETH $BTC or $QNT\\n\\n🏓 To enter…',\n",
              "       'RT @DegenPunters: Are you Degen enough to be a Punter??🎰\\n@Stake @rollbitcom @Roobet @Duelbits \\n.\\n.\\n\\n#nft #crypto #nftcommunity #nftcollecto…',\n",
              "       '@rollbitcom since twitterguy is a well-knowledge person, he thinks about bitcoin.',\n",
              "       'RT @ChainSnake: https://t.co/biLmHNNG5v join #thesandbox and play this #game with us! $sand #bitcoin #metaverse #defichain #nft #polkadot #…'],\n",
              "      dtype=object)"
            ]
          },
          "metadata": {},
          "execution_count": 78
        }
      ]
    },
    {
      "cell_type": "code",
      "source": [
        "football_tweets = tweets_to_dataframe(\"soccer lang:en\", 100)\n",
        "\n",
        "football_tweets.tweet.to_numpy()[:10]"
      ],
      "metadata": {
        "colab": {
          "base_uri": "https://localhost:8080/"
        },
        "id": "wVW_slyPmrLW",
        "outputId": "42195251-e31d-46d7-fa55-a86f144659e7"
      },
      "execution_count": 79,
      "outputs": [
        {
          "output_type": "execute_result",
          "data": {
            "text/plain": [
              "array(['RT @RachealAine: I’m not into soccer naye I have to confess that from today Arsenal will always be my team💃💃❤️\\nHello Arsenal Fam✋',\n",
              "       \"RT @USC_WSoccer: Here's your USC #StartingXI for the Trojans' Senior Day matchup with Arizona State. Less than 15 minutes from kickoff at M…\",\n",
              "       'Zambian soccer star Mwepu retires at 24 after\\xa0being diagnosed with a hereditary heart\\xa0issue https://t.co/8aFburPD4X',\n",
              "       '@Tarak94158555 @RonFilipkowski I live a mile away and the kids soccer games next door had more people. You ever look at house websites and they make the rooms look bigger then they are...same thing here, this was definitely one of his smaller crowds which is why he avoids cities and sticks to rural areas.',\n",
              "       \"@Imhotep2021 @Ngoako17 @iDiskiTimes We didn't others did,the person who posted this is a soccer journalist not a chiefs journalist \\nI never and will never say Sha is not a good player he is great but because others have their reasons to compare don't mean Chiefs should be insulted.\",\n",
              "       '@ANaosbon @AsanteKotoko_SC @CAF_Online Asante kotoko is the biggest football brand in Ghana.. Is the soccer university of Ghana, even Cafonline recognized and acknowledged that.. Case closed',\n",
              "       'RT @EliteCoach_: Pep Guardiola!\\n———————\\n\\nTake the Chance with Our eBooks written by coaches for soccer coaches.\\nYou can find all our e-book…',\n",
              "       '@nasoccergirls @NATigerAthletic @NorthAllegheny Go \\nThis is a very exciting game\\n⚽️ Soccer\\n📆 Monday October 10th 2022\\n to watch below is the link to watch it👇 \\n🎥 https://t.co/HXHJrVZmId',\n",
              "       \"Brighton &amp; Hove Albion's Zambian midfielder Enock Mwepu has been forced to end his playing career aged 24 after being diagnosed with a hereditary heart condition, the Premier League club said in a statement on Monday. https://t.co/7rTpn3nQ27\",\n",
              "       '@XoliswaZondo You r clowning now...soccer is not for u'],\n",
              "      dtype=object)"
            ]
          },
          "metadata": {},
          "execution_count": 79
        }
      ]
    },
    {
      "cell_type": "markdown",
      "source": [
        "### Predictions for each of the datasets"
      ],
      "metadata": {
        "id": "3t7xP_UlpPKB"
      }
    },
    {
      "cell_type": "code",
      "source": [
        "elon_preds = best_twt.predict(elon_tweets.tweet.to_numpy()).argmax(axis=1)\n",
        "btc_preds = best_twt.predict(bitcoin_tweets.tweet.to_numpy()).argmax(axis=1)\n",
        "football_preds = best_twt.predict(football_tweets.tweet.to_numpy()).argmax(axis=1)\n"
      ],
      "metadata": {
        "id": "jQ9A6nHEpR7j"
      },
      "execution_count": 80,
      "outputs": []
    },
    {
      "cell_type": "code",
      "source": [
        "# add predictions to the dataframes\n",
        "elon_tweets[\"predicted_sentiment\"] = elon_preds\n",
        "bitcoin_tweets[\"predicted_sentiment\"] = btc_preds\n",
        "football_tweets[\"predicted_sentiment\"] = football_preds"
      ],
      "metadata": {
        "id": "qY1A01qGtUoU"
      },
      "execution_count": 81,
      "outputs": []
    },
    {
      "cell_type": "code",
      "source": [
        "# concatanate dataframe\n",
        "all_tweets = pd.concat([elon_tweets, bitcoin_tweets, football_tweets])"
      ],
      "metadata": {
        "id": "DDWRfSi4tob-"
      },
      "execution_count": 82,
      "outputs": []
    },
    {
      "cell_type": "code",
      "source": [
        "# and we want to make it more readable for human\n",
        "dict_mapper = {0:\"negative\",\n",
        "               1:\"neutral\",\n",
        "               2:\"positive\"}"
      ],
      "metadata": {
        "id": "S0Itx5dXuYjK"
      },
      "execution_count": 83,
      "outputs": []
    },
    {
      "cell_type": "code",
      "source": [
        "all_tweets.predicted_sentiment = all_tweets.predicted_sentiment.map(dict_mapper)"
      ],
      "metadata": {
        "id": "ojAe9CexuJvY"
      },
      "execution_count": 84,
      "outputs": []
    },
    {
      "cell_type": "markdown",
      "source": [
        "### Final results - how well model performed on a real input.  \n",
        "Everyone can evaluate those results by themselves :)"
      ],
      "metadata": {
        "id": "P6Tqro9BxQ1i"
      }
    },
    {
      "cell_type": "code",
      "source": [
        "# Below you can check predictions vs real results for all tweets :)\n",
        "all_tweets[[\"tweet\", \"predicted_sentiment\"]].to_numpy()[:10]"
      ],
      "metadata": {
        "colab": {
          "base_uri": "https://localhost:8080/"
        },
        "id": "msnyXYFIwsBp",
        "outputId": "c62f8084-9a2f-41eb-e40e-3c34b9bb57bf"
      },
      "execution_count": 85,
      "outputs": [
        {
          "output_type": "execute_result",
          "data": {
            "text/plain": [
              "array([['RT @sillyhead: my cantankerous jewish opinion: elon musk would rather more people blame secret jewish power (does not exist) rather than un…',\n",
              "        'negative'],\n",
              "       ['RT @w_terrence: Zelenskyy is still mad at Elon Musk for suggesting Peace so lives can be saved and to prevent WW3. Zelenskyy don’t want pea…',\n",
              "        'positive'],\n",
              "       [\"RT @VABVOX: Am I the only person on Twitter who doesn't follow Elon Musk?\",\n",
              "        'negative'],\n",
              "       ['RT @SaeedDiCaprio: elon musk should stop worrying about space x and start worrying about the eXtra SPACE between his forehead and hairline',\n",
              "        'negative'],\n",
              "       ['RT @MattWallace888: Elon Musk will be the first trillionaire',\n",
              "        'positive'],\n",
              "       ['RT @RhonddaBryant: Elon Musk is wrong on Ukraine and Taiwan. The arrogance of the supremely wealthy who would barter with other people’s fr…',\n",
              "        'neutral'],\n",
              "       ['RT @SaeedDiCaprio: elon musk wanted this tweet gone soooo bad https://t.co/31rRgKk2qP',\n",
              "        'positive'],\n",
              "       [\"RT @realDonJTru: Thank you Elon Musk, I'm Back!!\", 'positive'],\n",
              "       [\"RT @realDonJTru: Thank you Elon Musk, I'm Back!!\", 'positive'],\n",
              "       ['@onefussyone Yes the russia talk is all related to his China business , China have leverage over Elon Musk , they can close his business down overnight',\n",
              "        'neutral']], dtype=object)"
            ]
          },
          "metadata": {},
          "execution_count": 85
        }
      ]
    },
    {
      "cell_type": "code",
      "source": [
        "# Let's plot what is the distribution\n",
        "all_tweets.predicted_sentiment.value_counts().plot(kind=\"pie\")"
      ],
      "metadata": {
        "colab": {
          "base_uri": "https://localhost:8080/",
          "height": 265
        },
        "id": "ssRFqaqdtFpg",
        "outputId": "c8eedb28-b669-4b7d-9fd7-79dff57696d9"
      },
      "execution_count": 86,
      "outputs": [
        {
          "output_type": "execute_result",
          "data": {
            "text/plain": [
              "<matplotlib.axes._subplots.AxesSubplot at 0x7f45f84f2c90>"
            ]
          },
          "metadata": {},
          "execution_count": 86
        },
        {
          "output_type": "display_data",
          "data": {
            "text/plain": [
              "<Figure size 432x288 with 1 Axes>"
            ],
            "image/png": "[encoded data removed]"
          },
          "metadata": {}
        }
      ]
    },
    {
      "cell_type": "code",
      "source": [
        "#And take out and print some samples per each category\n",
        "negatives = all_tweets[all_tweets.predicted_sentiment == \"negative\"].sample(frac=0.25).to_numpy(); negatives"
      ],
      "metadata": {
        "colab": {
          "base_uri": "https://localhost:8080/"
        },
        "id": "4v4pgwDBH0PM",
        "outputId": "b8167aa1-18c0-4e60-98b3-192e41411118"
      },
      "execution_count": 87,
      "outputs": [
        {
          "output_type": "execute_result",
          "data": {
            "text/plain": [
              "array([[1579415198221602818,\n",
              "        'Pool Results for 2022-03-08 Soccer 4 - Tue S4 - P1 Tips: X, X, 2, 1',\n",
              "        'negative'],\n",
              "       [1579416043189305349,\n",
              "        \"RT @GulfKanawutEC: ⚽️: just cause (i) have so many people cheering/supporting me (soccer play) doesn't mean i can/will play well 😂\\n\\n// so h…\",\n",
              "        'negative'],\n",
              "       [1579416076206878720,\n",
              "        '@AsmilaJ @realDonJTru Or to think Elon is actually THAT stupid! sir LIESaLot would NEVER thank him! He’d be declaring how IF it wasn’t FOR him, Elon would NOT been able to buy Twitter! It would be ONLY about dr. LIEsol the malignant narcissist DICtator wannabe! Musk would NOT bow to a degenerate loser',\n",
              "        'negative'],\n",
              "       [1579416062835425280,\n",
              "        \"RT @VABVOX: Am I the only person on Twitter who doesn't follow Elon Musk?\",\n",
              "        'negative'],\n",
              "       [1579416195392233472,\n",
              "        '@XoliswaZondo You r clowning now...soccer is not for u',\n",
              "        'negative'],\n",
              "       [1579415213006520320,\n",
              "        'Pool Results for 2021-09-02 Soccer 4 - Thu S4 - P2 Tips: 2, 2, 1, 1',\n",
              "        'negative'],\n",
              "       [1579415919771938817,\n",
              "        'RT @HuXijin_GT: Elon Musk has released his personality too much, and he believes too much in the US and West’s “freedom of speech.” He will…',\n",
              "        'negative'],\n",
              "       [1579415687587835905,\n",
              "        'Check out 2021-20 Topps Bundesliga Trading Cards One Hobby Soccer Pack 8 Cards https://t.co/aJATkezfv5 #eBay via @eBay',\n",
              "        'negative'],\n",
              "       [1579416093088952320,\n",
              "        'RT @sillyhead: my cantankerous jewish opinion: elon musk would rather more people blame secret jewish power (does not exist) rather than un…',\n",
              "        'negative'],\n",
              "       [1579415713038553088,\n",
              "        \"Guerrero: I once fell for the fantasy of uploading ourselves. It's a dangerous myth https://t.co/qydigBFgl3\",\n",
              "        'negative']], dtype=object)"
            ]
          },
          "metadata": {},
          "execution_count": 87
        }
      ]
    },
    {
      "cell_type": "code",
      "source": [
        "positives = all_tweets[all_tweets.predicted_sentiment == \"positive\"].sample(frac=0.05).to_numpy(); positives"
      ],
      "metadata": {
        "colab": {
          "base_uri": "https://localhost:8080/"
        },
        "id": "-e89zA4sI1mk",
        "outputId": "36dd0198-4946-49e1-f093-3ed4be6e48e1"
      },
      "execution_count": 88,
      "outputs": [
        {
          "output_type": "execute_result",
          "data": {
            "text/plain": [
              "array([[1579416100353478659,\n",
              "        'RT @CelebrityRamp: Heung Min Son: Net Worth, Height, Age, Biography &amp; More\\n#HeungMinSon #FIFA #Facts  #networth #biography #football #socce…',\n",
              "        'positive'],\n",
              "       [1579416204036681728,\n",
              "        \"RT @realDonJTru: Thank you Elon Musk, I'm Back!!\", 'positive'],\n",
              "       [1579415978047594497,\n",
              "        \"RT @realDonJTru: Thank you Elon Musk, I'm Back!!\", 'positive'],\n",
              "       [1579416286849011713,\n",
              "        '@VernaSenior 💎The next Moonshot right here! 💎\\nhttps://t.co/1U1EewC70C\\n\\n🌐 https://t.co/CaPyxvgs3Z\\n@RoboSquidToken\\n\\n #RoboSquidToken \\n#Binance #BNB #BTC\\n#Bitcoin #ETH #SHIB #dogecoin #doge #ElonMusk #Crypto #altcoin #SquidGame #SquidGrowArmy #SquidGrow #BabyDogeSwap #Babydoge',\n",
              "        'positive'],\n",
              "       [1579416338338295808,\n",
              "        'RT @montymetzger: 🔥 $1000 GIVEAWAY!!! 🔥\\n\\nIn order to celebrate @LCX revamp, I’ll be giving away $1000 in $LCX $ETH $BTC or $QNT\\n\\n🏓 To enter…',\n",
              "        'positive'],\n",
              "       [1579415857591386113,\n",
              "        'RT @EmmaWaanjai: Remember when MewGulf invented a new way to play soccer? 😆https://t.co/yej3nQEa4x',\n",
              "        'positive'],\n",
              "       [1579415537129754625,\n",
              "        'RT @OfficialFUFA: Uganda Sand Cranes have embarked on preparations for Beach Soccer AFCON 2022 Finals Mozambique starting today.\\n\\nPlayers e…',\n",
              "        'positive'],\n",
              "       [1579416272462180352,\n",
              "        'RT @RoboSquidToken: 🐙🔥 #PRESALE &amp; #LAUNCH TODAY 4PM UTC! 🚀🐙\\n\\n#RoboSquidToken \\n#BSC #BNB #BinanceSmartChain #BTC #Bitcoin #altcoin #ETH #XRP…',\n",
              "        'positive'],\n",
              "       [1579416085526614016,\n",
              "        \"RT @realDonJTru: Thank you Elon Musk, I'm Back!!\", 'positive'],\n",
              "       [1579416378955956224,\n",
              "        'RT @RoboSquidToken: 🐙🔥 #PRESALE &amp; #LAUNCH TODAY 4PM UTC! 🚀🐙\\n\\n#RoboSquidToken \\n#BSC #BNB #BinanceSmartChain #BTC #Bitcoin #altcoin #ETH #XRP…',\n",
              "        'positive']], dtype=object)"
            ]
          },
          "metadata": {},
          "execution_count": 88
        }
      ]
    },
    {
      "cell_type": "markdown",
      "source": [
        "# Final Thoughts\n",
        "\n",
        "We have to be very curious when using those kind of NLP classificator while scoring some fragile cases, because higher values in the metrcis means only hoe well those models are fitting pre-labeled data. And therefor, those pre-labeling maybe somehow biased. "
      ],
      "metadata": {
        "id": "-LB0PFRIYB83"
      }
    }
  ]
}